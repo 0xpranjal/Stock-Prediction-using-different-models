{
  "nbformat": 4,
  "nbformat_minor": 0,
  "metadata": {
    "accelerator": "GPU",
    "colab": {
      "name": "Full CNN - Wavenet.ipynb",
      "provenance": [],
      "collapsed_sections": [],
      "toc_visible": true
    },
    "kernelspec": {
      "display_name": "Python 3",
      "name": "python3"
    }
  },
  "cells": [
    {
      "cell_type": "markdown",
      "metadata": {
        "id": "2sN0JP9KEABp",
        "colab_type": "text"
      },
      "source": [
        "# Full CNN predictiong S&P500 Daily Closing Price\n",
        "Full CNNs are becoming more commom to detect trends in NLP and time series modeling. A popular architecture is the WaveNet architecture proposed by Deep Mind in 2016. \n",
        "\n",
        "In WaveNet, every layer has kernel size 2, stride 1, causal padding, and using ReLU activation functions. However, the 2nd layer uses a dilation rate of 2. This means it skips every other input timestep. The next layer uses a dilation rate of 4 which means it skips every 3 input time steps. The fourth layer uses a dilation rate of 8 which means it skips every 7 timesteps out of 8. This patter continues which enables the lower layers to learn shorter term patterns while the deeper layers learn the longer term patterns.\n",
        "\n",
        "The last layer acts as a dense layer to output a single value."
      ]
    },
    {
      "cell_type": "markdown",
      "metadata": {
        "id": "GIenpda_d0c8",
        "colab_type": "text"
      },
      "source": [
        ""
      ]
    },
    {
      "cell_type": "markdown",
      "metadata": {
        "colab_type": "text",
        "id": "vidayERjaO5q"
      },
      "source": [
        "## Setup"
      ]
    },
    {
      "cell_type": "code",
      "metadata": {
        "colab_type": "code",
        "id": "gqWabzlJ63nL",
        "colab": {
          "base_uri": "https://localhost:8080/",
          "height": 50
        },
        "outputId": "6424168c-1dbe-4ec5-ea35-81383312a4f1"
      },
      "source": [
        "import numpy as np\n",
        "import matplotlib.pyplot as plt\n",
        "import tensorflow as tf\n",
        "import pandas as pd\n",
        "import seaborn as sns\n",
        "keras = tf.keras\n",
        "\n",
        "from sklearn.preprocessing import MinMaxScaler\n",
        "\n",
        "# set style of charts\n",
        "sns.set(style=\"darkgrid\")"
      ],
      "execution_count": 1,
      "outputs": [
        {
          "output_type": "stream",
          "text": [
            "/usr/local/lib/python3.6/dist-packages/statsmodels/tools/_testing.py:19: FutureWarning: pandas.util.testing is deprecated. Use the functions in the public API at pandas.testing instead.\n",
            "  import pandas.util.testing as tm\n"
          ],
          "name": "stderr"
        }
      ]
    },
    {
      "cell_type": "code",
      "metadata": {
        "colab_type": "code",
        "id": "cg1hfKCPldZG",
        "colab": {}
      },
      "source": [
        "def plot_series(time, series, format=\"-\", start=0, end=None, label=None):\n",
        "    plt.plot(time[start:end], series[start:end], format, label=label)\n",
        "    plt.xlabel(\"Time\")\n",
        "    plt.ylabel(\"Value\")\n",
        "    if label:\n",
        "        plt.legend(fontsize=14)\n",
        "    plt.grid(True)\n",
        "  \n",
        "\n",
        "def seq2seq_window_dataset(series, window_size, batch_size=128,\n",
        "                           shuffle_buffer=1000):\n",
        "    series = tf.expand_dims(series, axis=-1)\n",
        "    ds = tf.data.Dataset.from_tensor_slices(series)\n",
        "    ds = ds.window(window_size + 1, shift=1, drop_remainder=True)\n",
        "    ds = ds.flat_map(lambda w: w.batch(window_size + 1))\n",
        "    ds = ds.shuffle(shuffle_buffer)\n",
        "    ds = ds.map(lambda w: (w[:-1], w[1:]))\n",
        "    return ds.batch(batch_size).prefetch(1)\n",
        "  \n",
        "def sequential_window_dataset(series, window_size):\n",
        "    ds = tf.data.Dataset.from_tensor_slices(series)\n",
        "    ds = ds.window(window_size + 1, shift=window_size, drop_remainder=True)\n",
        "    ds = ds.flat_map(lambda window: window.batch(window_size + 1))\n",
        "    ds = ds.map(lambda window: (window[:-1], window[1:]))\n",
        "    return ds.batch(1).prefetch(1)\n",
        "\n",
        "\n",
        "def model_forecast(model, series, window_size):\n",
        "    ds = tf.data.Dataset.from_tensor_slices(series)\n",
        "    ds = ds.window(window_size, shift=1, drop_remainder=True)\n",
        "    ds = ds.flat_map(lambda w: w.batch(window_size))\n",
        "    ds = ds.batch(32).prefetch(1)\n",
        "    forecast = model.predict(ds)\n",
        "    return forecast"
      ],
      "execution_count": 2,
      "outputs": []
    },
    {
      "cell_type": "code",
      "metadata": {
        "colab_type": "code",
        "id": "Zmp1JXKxk9Vb",
        "colab": {}
      },
      "source": [
        "# Read in data\n",
        "spy = pd.read_csv('SPY.csv')\n",
        "\n",
        "# Convert series into datetime type\n",
        "spy['Date'] = pd.to_datetime(spy['Date'])\n",
        "\n",
        "# Save target series\n",
        "series = spy['Close']\n",
        "\n",
        "# Create train data set\n",
        "train_split_date = '2014-12-31'\n",
        "train_split_index = np.where(spy.Date == train_split_date)[0][0]\n",
        "x_train = spy.loc[spy['Date'] <= train_split_date]['Close']\n",
        "\n",
        "# Create test data set\n",
        "test_split_date = '2019-01-02'\n",
        "test_split_index = np.where(spy.Date == test_split_date)[0][0]\n",
        "x_test = spy.loc[spy['Date'] >= test_split_date]['Close']\n",
        "\n",
        "# Create valid data set\n",
        "valid_split_index = (train_split_index.max(),test_split_index.min())\n",
        "x_valid = spy.loc[(spy['Date'] < test_split_date) & (spy['Date'] > train_split_date)]['Close']"
      ],
      "execution_count": 3,
      "outputs": []
    },
    {
      "cell_type": "code",
      "metadata": {
        "id": "9Vxt6avR8GEA",
        "colab_type": "code",
        "colab": {
          "base_uri": "https://localhost:8080/",
          "height": 285
        },
        "outputId": "42c9cd33-59e6-4bce-b260-a90e8940b544"
      },
      "source": [
        "# Plot all lines on one chart to see where one segment starts and another ends\n",
        "plt.plot(x_train, label = 'Train')\n",
        "plt.plot(x_valid, label = 'Validate')\n",
        "plt.plot(x_test, label = 'Test')\n",
        "plt.legend()\n",
        "print(x_train.index.max(),x_valid.index.min(),x_valid.index.max(),x_test.index.min(),x_test.index.max())"
      ],
      "execution_count": 4,
      "outputs": [
        {
          "output_type": "stream",
          "text": [
            "5521 5522 6527 6528 6949\n"
          ],
          "name": "stdout"
        },
        {
          "output_type": "display_data",
          "data": {
            "image/png": "[encoded data removed]",
            "text/plain": [
              "<Figure size 432x288 with 1 Axes>"
            ]
          },
          "metadata": {
            "tags": [],
            "needs_background": "light"
          }
        }
      ]
    },
    {
      "cell_type": "code",
      "metadata": {
        "id": "iWPZW0cX8Kgl",
        "colab_type": "code",
        "colab": {}
      },
      "source": [
        "# Reshape values\n",
        "x_train_values = x_train.values.reshape(-1, 1)\n",
        "x_valid_values = x_valid.values.reshape(-1, 1)\n",
        "x_test_values = x_test.values.reshape(-1, 1)\n",
        "\n",
        "#  Create Scaler Object\n",
        "x_train_scaler = MinMaxScaler(feature_range=(0, 1))\n",
        "\n",
        "# Fit x_train values\n",
        "normalized_x_train = x_train_scaler.fit_transform(x_train_values)\n",
        "\n",
        "# Fit x_valid values\n",
        "normalized_x_valid = x_train_scaler.transform(x_valid_values)\n",
        "\n",
        "# Fit x_test values\n",
        "normalized_x_test = x_train_scaler.transform(x_test_values)\n",
        "\n",
        "# All values normalized to training data\n",
        "spy_normalized_to_traindata = x_train_scaler.transform(series.values.reshape(-1, 1))\n",
        "\n",
        "# Example of how to iverse\n",
        "# inversed = scaler.inverse_transform(normalized_x_train).flatten()"
      ],
      "execution_count": 5,
      "outputs": []
    },
    {
      "cell_type": "markdown",
      "metadata": {
        "colab_type": "text",
        "id": "kfPTmghd8OJe"
      },
      "source": [
        "## Fully Convolutional Forecasting - Wavenet"
      ]
    },
    {
      "cell_type": "code",
      "metadata": {
        "colab_type": "code",
        "id": "4-cPF5CX8OJf",
        "colab": {
          "base_uri": "https://localhost:8080/",
          "height": 1000
        },
        "outputId": "813b8274-4472-4988-a81c-39d146db60c5"
      },
      "source": [
        "keras.backend.clear_session()\n",
        "tf.random.set_seed(42)\n",
        "np.random.seed(42)\n",
        "\n",
        "window_size = 20\n",
        "train_set = seq2seq_window_dataset(normalized_x_train, window_size,\n",
        "                                   batch_size=128)\n",
        "\n",
        "model = keras.models.Sequential()\n",
        "model.add(keras.layers.InputLayer(input_shape=[None, 1]))\n",
        "for dilation_rate in (1, 2, 4, 8, 16, 32):\n",
        "    model.add(\n",
        "      keras.layers.Conv1D(filters=32,\n",
        "                          kernel_size=2,\n",
        "                          strides=1,\n",
        "                          dilation_rate=dilation_rate,\n",
        "                          padding=\"causal\",\n",
        "                          activation=\"relu\")\n",
        "    )\n",
        "\n",
        "model.add(keras.layers.Conv1D(filters=1, kernel_size=1))\n",
        "lr_schedule = keras.callbacks.LearningRateScheduler(\n",
        "    lambda epoch: 1e-4 * 10**(epoch / 30))\n",
        "\n",
        "optimizer = keras.optimizers.Nadam(lr=1e-4)\n",
        "\n",
        "model.compile(loss=keras.losses.Huber(),\n",
        "              optimizer=optimizer,\n",
        "              metrics=[\"mae\"])\n",
        "\n",
        "history = model.fit(train_set, epochs=100, callbacks=[lr_schedule])"
      ],
      "execution_count": 6,
      "outputs": [
        {
          "output_type": "stream",
          "text": [
            "Epoch 1/100\n",
            "43/43 [==============================] - 1s 15ms/step - loss: 0.0801 - mae: 0.3453\n",
            "Epoch 2/100\n",
            "43/43 [==============================] - 1s 14ms/step - loss: 0.0578 - mae: 0.2904\n",
            "Epoch 3/100\n",
            "43/43 [==============================] - 1s 14ms/step - loss: 0.0255 - mae: 0.1873\n",
            "Epoch 4/100\n",
            "43/43 [==============================] - 1s 16ms/step - loss: 0.0107 - mae: 0.1092\n",
            "Epoch 5/100\n",
            "43/43 [==============================] - 1s 15ms/step - loss: 0.0086 - mae: 0.0990\n",
            "Epoch 6/100\n",
            "43/43 [==============================] - 1s 14ms/step - loss: 0.0063 - mae: 0.0821\n",
            "Epoch 7/100\n",
            "43/43 [==============================] - 1s 16ms/step - loss: 0.0043 - mae: 0.0657\n",
            "Epoch 8/100\n",
            "43/43 [==============================] - 1s 15ms/step - loss: 0.0028 - mae: 0.0499\n",
            "Epoch 9/100\n",
            "43/43 [==============================] - 1s 14ms/step - loss: 0.0016 - mae: 0.0344\n",
            "Epoch 10/100\n",
            "43/43 [==============================] - 1s 15ms/step - loss: 8.7841e-04 - mae: 0.0231\n",
            "Epoch 11/100\n",
            "43/43 [==============================] - 1s 16ms/step - loss: 5.4238e-04 - mae: 0.0181\n",
            "Epoch 12/100\n",
            "43/43 [==============================] - 1s 15ms/step - loss: 3.4260e-04 - mae: 0.0148\n",
            "Epoch 13/100\n",
            "43/43 [==============================] - 1s 14ms/step - loss: 2.1213e-04 - mae: 0.0120\n",
            "Epoch 14/100\n",
            "43/43 [==============================] - 1s 14ms/step - loss: 1.5977e-04 - mae: 0.0112\n",
            "Epoch 15/100\n",
            "43/43 [==============================] - 1s 15ms/step - loss: 1.0624e-04 - mae: 0.0093\n",
            "Epoch 16/100\n",
            "43/43 [==============================] - 1s 14ms/step - loss: 1.9150e-04 - mae: 0.0117\n",
            "Epoch 17/100\n",
            "43/43 [==============================] - 1s 15ms/step - loss: 8.7944e-05 - mae: 0.0093\n",
            "Epoch 18/100\n",
            "43/43 [==============================] - 1s 15ms/step - loss: 1.6471e-04 - mae: 0.0110\n",
            "Epoch 19/100\n",
            "43/43 [==============================] - 1s 15ms/step - loss: 7.3722e-05 - mae: 0.0088\n",
            "Epoch 20/100\n",
            "43/43 [==============================] - 1s 15ms/step - loss: 1.7585e-04 - mae: 0.0107\n",
            "Epoch 21/100\n",
            "43/43 [==============================] - 1s 15ms/step - loss: 9.7792e-05 - mae: 0.0100\n",
            "Epoch 22/100\n",
            "43/43 [==============================] - 1s 15ms/step - loss: 2.8390e-04 - mae: 0.0118\n",
            "Epoch 23/100\n",
            "43/43 [==============================] - 1s 15ms/step - loss: 1.2592e-04 - mae: 0.0112\n",
            "Epoch 24/100\n",
            "43/43 [==============================] - 1s 15ms/step - loss: 5.4576e-04 - mae: 0.0160\n",
            "Epoch 25/100\n",
            "43/43 [==============================] - 1s 16ms/step - loss: 1.3403e-04 - mae: 0.0117\n",
            "Epoch 26/100\n",
            "43/43 [==============================] - 1s 15ms/step - loss: 5.8778e-05 - mae: 0.0079\n",
            "Epoch 27/100\n",
            "43/43 [==============================] - 1s 15ms/step - loss: 3.9416e-04 - mae: 0.0147\n",
            "Epoch 28/100\n",
            "43/43 [==============================] - 1s 15ms/step - loss: 1.5803e-04 - mae: 0.0124\n",
            "Epoch 29/100\n",
            "43/43 [==============================] - 1s 16ms/step - loss: 0.0011 - mae: 0.0263\n",
            "Epoch 30/100\n",
            "43/43 [==============================] - 1s 15ms/step - loss: 1.3417e-04 - mae: 0.0116\n",
            "Epoch 31/100\n",
            "43/43 [==============================] - 1s 15ms/step - loss: 5.3456e-05 - mae: 0.0077\n",
            "Epoch 32/100\n",
            "43/43 [==============================] - 1s 15ms/step - loss: 1.2482e-04 - mae: 0.0095\n",
            "Epoch 33/100\n",
            "43/43 [==============================] - 1s 15ms/step - loss: 4.9868e-04 - mae: 0.0168\n",
            "Epoch 34/100\n",
            "43/43 [==============================] - 1s 15ms/step - loss: 0.0018 - mae: 0.0344\n",
            "Epoch 35/100\n",
            "43/43 [==============================] - 1s 15ms/step - loss: 1.2301e-04 - mae: 0.0118\n",
            "Epoch 36/100\n",
            "43/43 [==============================] - 1s 16ms/step - loss: 1.1546e-04 - mae: 0.0105\n",
            "Epoch 37/100\n",
            "43/43 [==============================] - 1s 15ms/step - loss: 6.8428e-04 - mae: 0.0172\n",
            "Epoch 38/100\n",
            "43/43 [==============================] - 1s 15ms/step - loss: 2.2019e-04 - mae: 0.0146\n",
            "Epoch 39/100\n",
            "43/43 [==============================] - 1s 15ms/step - loss: 0.0030 - mae: 0.0316\n",
            "Epoch 40/100\n",
            "43/43 [==============================] - 1s 16ms/step - loss: 5.2569e-04 - mae: 0.0214\n",
            "Epoch 41/100\n",
            "43/43 [==============================] - 1s 16ms/step - loss: 9.9280e-04 - mae: 0.0251\n",
            "Epoch 42/100\n",
            "43/43 [==============================] - 1s 15ms/step - loss: 1.3694e-04 - mae: 0.0125\n",
            "Epoch 43/100\n",
            "43/43 [==============================] - 1s 16ms/step - loss: 2.5758e-04 - mae: 0.0126\n",
            "Epoch 44/100\n",
            "43/43 [==============================] - 1s 15ms/step - loss: 0.0019 - mae: 0.0289\n",
            "Epoch 45/100\n",
            "43/43 [==============================] - 1s 15ms/step - loss: 8.5546e-04 - mae: 0.0238\n",
            "Epoch 46/100\n",
            "43/43 [==============================] - 1s 15ms/step - loss: 0.0030 - mae: 0.0507\n",
            "Epoch 47/100\n",
            "43/43 [==============================] - 1s 16ms/step - loss: 0.0016 - mae: 0.0340\n",
            "Epoch 48/100\n",
            "43/43 [==============================] - 1s 15ms/step - loss: 7.3252e-04 - mae: 0.0249\n",
            "Epoch 49/100\n",
            "43/43 [==============================] - 1s 15ms/step - loss: 0.0023 - mae: 0.0422\n",
            "Epoch 50/100\n",
            "43/43 [==============================] - 1s 15ms/step - loss: 1.7402e-04 - mae: 0.0137\n",
            "Epoch 51/100\n",
            "43/43 [==============================] - 1s 15ms/step - loss: 0.0022 - mae: 0.0353\n",
            "Epoch 52/100\n",
            "43/43 [==============================] - 1s 15ms/step - loss: 0.0019 - mae: 0.0364\n",
            "Epoch 53/100\n",
            "43/43 [==============================] - 1s 14ms/step - loss: 0.0033 - mae: 0.0503\n",
            "Epoch 54/100\n",
            "43/43 [==============================] - 1s 15ms/step - loss: 0.0039 - mae: 0.0484\n",
            "Epoch 55/100\n",
            "43/43 [==============================] - 1s 15ms/step - loss: 0.0034 - mae: 0.0585\n",
            "Epoch 56/100\n",
            "43/43 [==============================] - 1s 14ms/step - loss: 0.0013 - mae: 0.0313\n",
            "Epoch 57/100\n",
            "43/43 [==============================] - 1s 15ms/step - loss: 0.0017 - mae: 0.0353\n",
            "Epoch 58/100\n",
            "43/43 [==============================] - 1s 16ms/step - loss: 4.1435e-04 - mae: 0.0197\n",
            "Epoch 59/100\n",
            "43/43 [==============================] - 1s 15ms/step - loss: 0.0023 - mae: 0.0401\n",
            "Epoch 60/100\n",
            "43/43 [==============================] - 1s 14ms/step - loss: 0.0037 - mae: 0.0528\n",
            "Epoch 61/100\n",
            "43/43 [==============================] - 1s 15ms/step - loss: 0.0041 - mae: 0.0608\n",
            "Epoch 62/100\n",
            "43/43 [==============================] - 1s 15ms/step - loss: 0.0028 - mae: 0.0441\n",
            "Epoch 63/100\n",
            "43/43 [==============================] - 1s 14ms/step - loss: 0.0029 - mae: 0.0448\n",
            "Epoch 64/100\n",
            "43/43 [==============================] - 1s 15ms/step - loss: 0.0026 - mae: 0.0483\n",
            "Epoch 65/100\n",
            "43/43 [==============================] - 1s 15ms/step - loss: 0.0024 - mae: 0.0441\n",
            "Epoch 66/100\n",
            "43/43 [==============================] - 1s 16ms/step - loss: 0.0016 - mae: 0.0306\n",
            "Epoch 67/100\n",
            "43/43 [==============================] - 1s 15ms/step - loss: 0.0067 - mae: 0.0746\n",
            "Epoch 68/100\n",
            "43/43 [==============================] - 1s 16ms/step - loss: 0.0050 - mae: 0.0673\n",
            "Epoch 69/100\n",
            "43/43 [==============================] - 1s 15ms/step - loss: 0.0099 - mae: 0.0778\n",
            "Epoch 70/100\n",
            "43/43 [==============================] - 1s 16ms/step - loss: 0.0139 - mae: 0.1331\n",
            "Epoch 71/100\n",
            "43/43 [==============================] - 1s 16ms/step - loss: 0.0220 - mae: 0.1656\n",
            "Epoch 72/100\n",
            "43/43 [==============================] - 1s 15ms/step - loss: 0.0221 - mae: 0.1660\n",
            "Epoch 73/100\n",
            "43/43 [==============================] - 1s 16ms/step - loss: 0.0218 - mae: 0.1640\n",
            "Epoch 74/100\n",
            "43/43 [==============================] - 1s 15ms/step - loss: 0.0219 - mae: 0.1659\n",
            "Epoch 75/100\n",
            "43/43 [==============================] - 1s 15ms/step - loss: 0.0214 - mae: 0.1634\n",
            "Epoch 76/100\n",
            "43/43 [==============================] - 1s 15ms/step - loss: 0.0216 - mae: 0.1628\n",
            "Epoch 77/100\n",
            "43/43 [==============================] - 1s 14ms/step - loss: 0.0216 - mae: 0.1628\n",
            "Epoch 78/100\n",
            "43/43 [==============================] - 1s 15ms/step - loss: 0.0212 - mae: 0.1616\n",
            "Epoch 79/100\n",
            "43/43 [==============================] - 1s 15ms/step - loss: 0.0210 - mae: 0.1608\n",
            "Epoch 80/100\n",
            "43/43 [==============================] - 1s 16ms/step - loss: 0.0209 - mae: 0.1597\n",
            "Epoch 81/100\n",
            "43/43 [==============================] - 1s 16ms/step - loss: 0.0206 - mae: 0.1588\n",
            "Epoch 82/100\n",
            "43/43 [==============================] - 1s 16ms/step - loss: 0.0202 - mae: 0.1571\n",
            "Epoch 83/100\n",
            "43/43 [==============================] - 1s 14ms/step - loss: 0.0200 - mae: 0.1554\n",
            "Epoch 84/100\n",
            "43/43 [==============================] - 1s 15ms/step - loss: 0.0197 - mae: 0.1538\n",
            "Epoch 85/100\n",
            "43/43 [==============================] - 1s 15ms/step - loss: 0.0198 - mae: 0.1535\n",
            "Epoch 86/100\n",
            "43/43 [==============================] - 1s 16ms/step - loss: 0.0192 - mae: 0.1520\n",
            "Epoch 87/100\n",
            "43/43 [==============================] - 1s 15ms/step - loss: 0.0187 - mae: 0.1491\n",
            "Epoch 88/100\n",
            "43/43 [==============================] - 1s 16ms/step - loss: 0.0187 - mae: 0.1480\n",
            "Epoch 89/100\n",
            "43/43 [==============================] - 1s 16ms/step - loss: 0.0182 - mae: 0.1466\n",
            "Epoch 90/100\n",
            "43/43 [==============================] - 1s 15ms/step - loss: 0.0179 - mae: 0.1453\n",
            "Epoch 91/100\n",
            "43/43 [==============================] - 1s 15ms/step - loss: 0.0176 - mae: 0.1424\n",
            "Epoch 92/100\n",
            "43/43 [==============================] - 1s 14ms/step - loss: 0.0170 - mae: 0.1417\n",
            "Epoch 93/100\n",
            "43/43 [==============================] - 1s 15ms/step - loss: 0.0173 - mae: 0.1420\n",
            "Epoch 94/100\n",
            "43/43 [==============================] - 1s 15ms/step - loss: 0.0167 - mae: 0.1398\n",
            "Epoch 95/100\n",
            "43/43 [==============================] - 1s 15ms/step - loss: 0.0164 - mae: 0.1381\n",
            "Epoch 96/100\n",
            "43/43 [==============================] - 1s 15ms/step - loss: 0.0161 - mae: 0.1367\n",
            "Epoch 97/100\n",
            "43/43 [==============================] - 1s 15ms/step - loss: 0.0159 - mae: 0.1357\n",
            "Epoch 98/100\n",
            "43/43 [==============================] - 1s 15ms/step - loss: 0.0157 - mae: 0.1348\n",
            "Epoch 99/100\n",
            "43/43 [==============================] - 1s 15ms/step - loss: 0.0155 - mae: 0.1329\n",
            "Epoch 100/100\n",
            "43/43 [==============================] - 1s 14ms/step - loss: 0.0150 - mae: 0.1321\n"
          ],
          "name": "stdout"
        }
      ]
    },
    {
      "cell_type": "code",
      "metadata": {
        "colab_type": "code",
        "id": "GfWVZ8k-8OJf",
        "colab": {
          "base_uri": "https://localhost:8080/",
          "height": 295
        },
        "outputId": "7bf89dbf-8a13-42af-aa7f-88fcbacc7fea"
      },
      "source": [
        "# Plot learning rate\n",
        "plt.semilogx(history.history[\"lr\"], history.history[\"loss\"])\n",
        "plt.axis([1e-4, 1e-1, 0, .1])"
      ],
      "execution_count": 7,
      "outputs": [
        {
          "output_type": "execute_result",
          "data": {
            "text/plain": [
              "(0.0001, 0.1, 0.0, 0.1)"
            ]
          },
          "metadata": {
            "tags": []
          },
          "execution_count": 7
        },
        {
          "output_type": "display_data",
          "data": {
            "image/png": "[encoded data removed]",
            "text/plain": [
              "<Figure size 432x288 with 1 Axes>"
            ]
          },
          "metadata": {
            "tags": [],
            "needs_background": "light"
          }
        }
      ]
    },
    {
      "cell_type": "code",
      "metadata": {
        "colab_type": "code",
        "id": "WVrxlzbk8OJg",
        "colab": {
          "base_uri": "https://localhost:8080/",
          "height": 1000
        },
        "outputId": "47e4eb05-cb9f-4b3a-d5c3-596732f8d8e6"
      },
      "source": [
        "# Clear any background data that may have stored\n",
        "keras.backend.clear_session()\n",
        "tf.random.set_seed(42)\n",
        "np.random.seed(42)\n",
        "\n",
        "# Create input sequence batches\n",
        "window_size = 30\n",
        "train_set = seq2seq_window_dataset(normalized_x_train, window_size,\n",
        "                                   batch_size=128)\n",
        "valid_set = seq2seq_window_dataset(normalized_x_valid, window_size,\n",
        "                                   batch_size=128)\n",
        "\n",
        "# Create model object and set up wavenet architecture\n",
        "model = keras.models.Sequential()\n",
        "model.add(keras.layers.InputLayer(input_shape=[None, 1]))\n",
        "for dilation_rate in (1, 2, 4, 8, 16, 32):\n",
        "    model.add(\n",
        "      keras.layers.Conv1D(filters=128,\n",
        "                          kernel_size=2,\n",
        "                          strides=1,\n",
        "                          dilation_rate=dilation_rate,\n",
        "                          padding=\"causal\",\n",
        "                          activation=\"relu\")\n",
        "    )\n",
        "\n",
        "# Add final dense layer\n",
        "model.add(keras.layers.Conv1D(filters=1, kernel_size=1))\n",
        "\n",
        "# Set Nadam as optimizer\n",
        "optimizer = keras.optimizers.Nadam(lr=5e-4)\n",
        "\n",
        "# Compile model\n",
        "model.compile(loss=keras.losses.Huber(),\n",
        "              optimizer=optimizer,\n",
        "              metrics=[\"mae\"])\n",
        "\n",
        "# save best model \n",
        "model_checkpoint = keras.callbacks.ModelCheckpoint(\n",
        "    \"my_checkpoint.h5\", save_best_only=True)\n",
        "\n",
        "# set early stopping\n",
        "early_stopping = keras.callbacks.EarlyStopping(patience=50)\n",
        "\n",
        "# sav history\n",
        "history = model.fit(train_set, epochs=500,\n",
        "                    validation_data=valid_set,\n",
        "                    callbacks=[early_stopping, model_checkpoint])"
      ],
      "execution_count": 8,
      "outputs": [
        {
          "output_type": "stream",
          "text": [
            "Epoch 1/500\n",
            "43/43 [==============================] - 1s 31ms/step - loss: 0.0051 - mae: 0.0703 - val_loss: 0.0063 - val_mae: 0.1019\n",
            "Epoch 2/500\n",
            "43/43 [==============================] - 1s 19ms/step - loss: 0.0013 - mae: 0.0258 - val_loss: 0.0023 - val_mae: 0.0593\n",
            "Epoch 3/500\n",
            "43/43 [==============================] - 1s 20ms/step - loss: 1.4693e-04 - mae: 0.0122 - val_loss: 6.7912e-04 - val_mae: 0.0303\n",
            "Epoch 4/500\n",
            "43/43 [==============================] - 1s 20ms/step - loss: 1.6410e-04 - mae: 0.0117 - val_loss: 0.0271 - val_mae: 0.2276\n",
            "Epoch 5/500\n",
            "43/43 [==============================] - 1s 21ms/step - loss: 0.0017 - mae: 0.0279 - val_loss: 0.0015 - val_mae: 0.0482\n",
            "Epoch 6/500\n",
            "43/43 [==============================] - 1s 21ms/step - loss: 7.2446e-05 - mae: 0.0090 - val_loss: 2.9009e-04 - val_mae: 0.0183\n",
            "Epoch 7/500\n",
            "43/43 [==============================] - 1s 20ms/step - loss: 4.9042e-04 - mae: 0.0164 - val_loss: 0.0068 - val_mae: 0.1125\n",
            "Epoch 8/500\n",
            "43/43 [==============================] - 1s 20ms/step - loss: 1.2063e-04 - mae: 0.0115 - val_loss: 7.7890e-04 - val_mae: 0.0335\n",
            "Epoch 9/500\n",
            "43/43 [==============================] - 1s 20ms/step - loss: 4.1206e-04 - mae: 0.0156 - val_loss: 0.0383 - val_mae: 0.2709\n",
            "Epoch 10/500\n",
            "43/43 [==============================] - 1s 20ms/step - loss: 0.0010 - mae: 0.0266 - val_loss: 0.0212 - val_mae: 0.1999\n",
            "Epoch 11/500\n",
            "43/43 [==============================] - 1s 19ms/step - loss: 4.5591e-04 - mae: 0.0189 - val_loss: 0.0104 - val_mae: 0.1384\n",
            "Epoch 12/500\n",
            "43/43 [==============================] - 1s 20ms/step - loss: 9.7139e-05 - mae: 0.0102 - val_loss: 6.6265e-04 - val_mae: 0.0305\n",
            "Epoch 13/500\n",
            "43/43 [==============================] - 1s 22ms/step - loss: 4.2417e-04 - mae: 0.0168 - val_loss: 0.0159 - val_mae: 0.1725\n",
            "Epoch 14/500\n",
            "43/43 [==============================] - 1s 22ms/step - loss: 1.3172e-04 - mae: 0.0117 - val_loss: 0.0057 - val_mae: 0.1013\n",
            "Epoch 15/500\n",
            "43/43 [==============================] - 1s 20ms/step - loss: 1.8136e-04 - mae: 0.0127 - val_loss: 0.0142 - val_mae: 0.1628\n",
            "Epoch 16/500\n",
            "43/43 [==============================] - 1s 20ms/step - loss: 8.5269e-05 - mae: 0.0097 - val_loss: 6.1685e-04 - val_mae: 0.0288\n",
            "Epoch 17/500\n",
            "43/43 [==============================] - 1s 19ms/step - loss: 5.0830e-04 - mae: 0.0167 - val_loss: 0.0193 - val_mae: 0.1905\n",
            "Epoch 18/500\n",
            "43/43 [==============================] - 1s 20ms/step - loss: 2.3995e-04 - mae: 0.0146 - val_loss: 0.0032 - val_mae: 0.0766\n",
            "Epoch 19/500\n",
            "43/43 [==============================] - 1s 19ms/step - loss: 7.2669e-04 - mae: 0.0213 - val_loss: 0.0121 - val_mae: 0.1499\n",
            "Epoch 20/500\n",
            "43/43 [==============================] - 1s 20ms/step - loss: 8.5001e-05 - mae: 0.0097 - val_loss: 0.0051 - val_mae: 0.0956\n",
            "Epoch 21/500\n",
            "43/43 [==============================] - 1s 19ms/step - loss: 8.9331e-05 - mae: 0.0098 - val_loss: 8.9359e-04 - val_mae: 0.0371\n",
            "Epoch 22/500\n",
            "43/43 [==============================] - 1s 19ms/step - loss: 6.0122e-04 - mae: 0.0177 - val_loss: 0.0058 - val_mae: 0.1052\n",
            "Epoch 23/500\n",
            "43/43 [==============================] - 1s 20ms/step - loss: 3.4116e-04 - mae: 0.0168 - val_loss: 0.0039 - val_mae: 0.0852\n",
            "Epoch 24/500\n",
            "43/43 [==============================] - 1s 19ms/step - loss: 7.2091e-05 - mae: 0.0090 - val_loss: 9.6271e-04 - val_mae: 0.0381\n",
            "Epoch 25/500\n",
            "43/43 [==============================] - 1s 19ms/step - loss: 5.6756e-05 - mae: 0.0078 - val_loss: 6.4974e-04 - val_mae: 0.0304\n",
            "Epoch 26/500\n",
            "43/43 [==============================] - 1s 20ms/step - loss: 7.7530e-05 - mae: 0.0086 - val_loss: 0.0021 - val_mae: 0.0616\n",
            "Epoch 27/500\n",
            "43/43 [==============================] - 1s 20ms/step - loss: 8.2067e-04 - mae: 0.0212 - val_loss: 0.0191 - val_mae: 0.1894\n",
            "Epoch 28/500\n",
            "43/43 [==============================] - 1s 19ms/step - loss: 2.6345e-04 - mae: 0.0149 - val_loss: 0.0142 - val_mae: 0.1629\n",
            "Epoch 29/500\n",
            "43/43 [==============================] - 1s 19ms/step - loss: 9.8311e-05 - mae: 0.0104 - val_loss: 0.0042 - val_mae: 0.0856\n",
            "Epoch 30/500\n",
            "43/43 [==============================] - 1s 20ms/step - loss: 3.1633e-04 - mae: 0.0143 - val_loss: 0.0181 - val_mae: 0.1840\n",
            "Epoch 31/500\n",
            "43/43 [==============================] - 1s 19ms/step - loss: 1.0492e-04 - mae: 0.0107 - val_loss: 8.0268e-04 - val_mae: 0.0349\n",
            "Epoch 32/500\n",
            "43/43 [==============================] - 1s 21ms/step - loss: 1.6934e-04 - mae: 0.0114 - val_loss: 0.0038 - val_mae: 0.0848\n",
            "Epoch 33/500\n",
            "43/43 [==============================] - 1s 20ms/step - loss: 4.4508e-04 - mae: 0.0180 - val_loss: 0.0157 - val_mae: 0.1712\n",
            "Epoch 34/500\n",
            "43/43 [==============================] - 1s 20ms/step - loss: 1.0991e-04 - mae: 0.0108 - val_loss: 0.0010 - val_mae: 0.0404\n",
            "Epoch 35/500\n",
            "43/43 [==============================] - 1s 20ms/step - loss: 8.5702e-05 - mae: 0.0090 - val_loss: 0.0070 - val_mae: 0.1123\n",
            "Epoch 36/500\n",
            "43/43 [==============================] - 1s 20ms/step - loss: 5.2285e-05 - mae: 0.0076 - val_loss: 7.9207e-04 - val_mae: 0.0333\n",
            "Epoch 37/500\n",
            "43/43 [==============================] - 1s 20ms/step - loss: 1.0056e-04 - mae: 0.0088 - val_loss: 0.0136 - val_mae: 0.1590\n",
            "Epoch 38/500\n",
            "43/43 [==============================] - 1s 21ms/step - loss: 1.8189e-04 - mae: 0.0125 - val_loss: 0.0033 - val_mae: 0.0784\n",
            "Epoch 39/500\n",
            "43/43 [==============================] - 1s 20ms/step - loss: 6.6754e-05 - mae: 0.0086 - val_loss: 0.0012 - val_mae: 0.0421\n",
            "Epoch 40/500\n",
            "43/43 [==============================] - 1s 19ms/step - loss: 6.3343e-05 - mae: 0.0076 - val_loss: 0.0078 - val_mae: 0.1191\n",
            "Epoch 41/500\n",
            "43/43 [==============================] - 1s 20ms/step - loss: 5.4097e-05 - mae: 0.0078 - val_loss: 0.0012 - val_mae: 0.0417\n",
            "Epoch 42/500\n",
            "43/43 [==============================] - 1s 20ms/step - loss: 2.0506e-04 - mae: 0.0106 - val_loss: 0.0374 - val_mae: 0.2665\n",
            "Epoch 43/500\n",
            "43/43 [==============================] - 1s 20ms/step - loss: 8.3310e-04 - mae: 0.0233 - val_loss: 0.0015 - val_mae: 0.0473\n",
            "Epoch 44/500\n",
            "43/43 [==============================] - 1s 20ms/step - loss: 5.4527e-05 - mae: 0.0078 - val_loss: 9.1504e-04 - val_mae: 0.0362\n",
            "Epoch 45/500\n",
            "43/43 [==============================] - 1s 20ms/step - loss: 3.6202e-05 - mae: 0.0063 - val_loss: 0.0010 - val_mae: 0.0387\n",
            "Epoch 46/500\n",
            "43/43 [==============================] - 1s 20ms/step - loss: 3.7259e-05 - mae: 0.0064 - val_loss: 0.0019 - val_mae: 0.0555\n",
            "Epoch 47/500\n",
            "43/43 [==============================] - 1s 21ms/step - loss: 7.8858e-05 - mae: 0.0084 - val_loss: 0.0087 - val_mae: 0.1260\n",
            "Epoch 48/500\n",
            "43/43 [==============================] - 1s 20ms/step - loss: 7.4282e-04 - mae: 0.0204 - val_loss: 0.0019 - val_mae: 0.0583\n",
            "Epoch 49/500\n",
            "43/43 [==============================] - 1s 20ms/step - loss: 9.9730e-05 - mae: 0.0103 - val_loss: 0.0028 - val_mae: 0.0681\n",
            "Epoch 50/500\n",
            "43/43 [==============================] - 1s 19ms/step - loss: 3.8612e-05 - mae: 0.0065 - val_loss: 5.3254e-04 - val_mae: 0.0262\n",
            "Epoch 51/500\n",
            "43/43 [==============================] - 1s 20ms/step - loss: 3.3897e-05 - mae: 0.0060 - val_loss: 2.9028e-04 - val_mae: 0.0183\n",
            "Epoch 52/500\n",
            "43/43 [==============================] - 1s 20ms/step - loss: 5.0814e-05 - mae: 0.0069 - val_loss: 0.0035 - val_mae: 0.0772\n",
            "Epoch 53/500\n",
            "43/43 [==============================] - 1s 20ms/step - loss: 3.7157e-05 - mae: 0.0064 - val_loss: 7.7238e-04 - val_mae: 0.0325\n",
            "Epoch 54/500\n",
            "43/43 [==============================] - 1s 20ms/step - loss: 4.8618e-05 - mae: 0.0066 - val_loss: 0.0074 - val_mae: 0.1156\n",
            "Epoch 55/500\n",
            "43/43 [==============================] - 1s 20ms/step - loss: 1.2372e-04 - mae: 0.0101 - val_loss: 0.0228 - val_mae: 0.2064\n",
            "Epoch 56/500\n",
            "43/43 [==============================] - 1s 21ms/step - loss: 6.7090e-04 - mae: 0.0195 - val_loss: 0.0124 - val_mae: 0.1500\n"
          ],
          "name": "stdout"
        }
      ]
    },
    {
      "cell_type": "code",
      "metadata": {
        "colab_type": "code",
        "id": "eNwWZB0d8OJh",
        "colab": {}
      },
      "source": [
        "# reload best model checkpoint\n",
        "model = keras.models.load_model(\"my_checkpoint.h5\")"
      ],
      "execution_count": 9,
      "outputs": []
    },
    {
      "cell_type": "code",
      "metadata": {
        "colab_type": "code",
        "id": "PgYwn9VM8OJi",
        "colab": {}
      },
      "source": [
        "# Use best model to get forecasts\n",
        "cnn_forecast = model_forecast(model, spy_normalized_to_traindata[:,  np.newaxis], window_size)\n",
        "cnn_forecast = cnn_forecast[x_test.index.min() - window_size:-1,-1,0]"
      ],
      "execution_count": 10,
      "outputs": []
    },
    {
      "cell_type": "code",
      "metadata": {
        "id": "Q7z-qvEJQEiu",
        "colab_type": "code",
        "colab": {
          "base_uri": "https://localhost:8080/",
          "height": 33
        },
        "outputId": "c849b08c-c1fc-4a72-e1cc-14ca11340c63"
      },
      "source": [
        "# Scale back to normal\n",
        "cnn_unscaled_forecast = x_train_scaler.inverse_transform(cnn_forecast.reshape(-1,1)).flatten()\n",
        "cnn_unscaled_forecast.shape"
      ],
      "execution_count": 11,
      "outputs": [
        {
          "output_type": "execute_result",
          "data": {
            "text/plain": [
              "(422,)"
            ]
          },
          "metadata": {
            "tags": []
          },
          "execution_count": 11
        }
      ]
    },
    {
      "cell_type": "code",
      "metadata": {
        "colab_type": "code",
        "id": "MCgshNPx8OJi",
        "colab": {
          "base_uri": "https://localhost:8080/",
          "height": 410
        },
        "outputId": "f6b54ea8-940f-41d7-a01b-2d204923fdbc"
      },
      "source": [
        "# Plot results\n",
        "plt.figure(figsize=(10, 6))\n",
        "\n",
        "plt.ylabel('Dollars $')\n",
        "plt.xlabel('Timestep in Days')\n",
        "plt.title(f'Full CNN Model {window_size}')\n",
        "plot_series(x_test.index, x_test)\n",
        "plot_series(x_test.index, cnn_unscaled_forecast)"
      ],
      "execution_count": 12,
      "outputs": [
        {
          "output_type": "display_data",
          "data": {
            "image/png": "[encoded data removed]",
            "text/plain": [
              "<Figure size 720x432 with 1 Axes>"
            ]
          },
          "metadata": {
            "tags": [],
            "needs_background": "light"
          }
        }
      ]
    },
    {
      "cell_type": "code",
      "metadata": {
        "colab_type": "code",
        "id": "epK1gFEN8OJj",
        "colab": {
          "base_uri": "https://localhost:8080/",
          "height": 33
        },
        "outputId": "c700b5bc-55d7-49ba-de1e-2132195c9b6d"
      },
      "source": [
        "# Calculate MAE\n",
        "keras.metrics.mean_absolute_error(x_test, cnn_unscaled_forecast).numpy()"
      ],
      "execution_count": 13,
      "outputs": [
        {
          "output_type": "execute_result",
          "data": {
            "text/plain": [
              "7.9851394"
            ]
          },
          "metadata": {
            "tags": []
          },
          "execution_count": 13
        }
      ]
    },
    {
      "cell_type": "code",
      "metadata": {
        "id": "RAoWAxgGQM_M",
        "colab_type": "code",
        "colab": {}
      },
      "source": [
        ""
      ],
      "execution_count": 13,
      "outputs": []
    }
  ]
}