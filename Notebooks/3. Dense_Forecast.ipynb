{
  "nbformat": 4,
  "nbformat_minor": 0,
  "metadata": {
    "colab": {
      "name": "Dense Forecast.ipynb",
      "provenance": [],
      "collapsed_sections": [],
      "toc_visible": true
    },
    "kernelspec": {
      "display_name": "Python 3",
      "name": "python3"
    }
  },
  "cells": [
    {
      "cell_type": "markdown",
      "metadata": {
        "id": "dPVvzVmcuG44",
        "colab_type": "text"
      },
      "source": [
        "# Dense Forecasting\n",
        "\n",
        "A dense layer is just a regular layer of neurons in a neural network. Each neuron recieves input from all the neurons in the previous layer, thus densely connected. The layer has a weight matrix W, a bias vector b, and the activations of previous layer a. The following is te docstring of class Dense from the keras documentation:\n",
        "\n",
        "output = activation(dot(input, kernel) + bias)where activation is the element-wise activation function passed as the activation argument, kernel is a weights matrix created by the layer, and bias is a bias vector created by the layer."
      ]
    },
    {
      "cell_type": "markdown",
      "metadata": {
        "colab_type": "text",
        "id": "vidayERjaO5q"
      },
      "source": [
        "## Setup"
      ]
    },
    {
      "cell_type": "code",
      "metadata": {
        "colab_type": "code",
        "id": "gqWabzlJ63nL",
        "colab": {
          "base_uri": "https://localhost:8080/",
          "height": 50
        },
        "outputId": "d7289e37-c4d6-4688-9bd8-bb696973e6ed"
      },
      "source": [
        "import numpy as np\n",
        "import pandas as pd\n",
        "import matplotlib.pyplot as plt\n",
        "import tensorflow as tf\n",
        "import seaborn as sns\n",
        "\n",
        "from sklearn.preprocessing import MinMaxScaler\n",
        "\n",
        "keras = tf.keras\n",
        "\n",
        "# set style of charts\n",
        "sns.set(style=\"darkgrid\")\n",
        "plt.rcParams['figure.figsize'] = [10, 10]"
      ],
      "execution_count": null,
      "outputs": [
        {
          "output_type": "stream",
          "text": [
            "/usr/local/lib/python3.6/dist-packages/statsmodels/tools/_testing.py:19: FutureWarning: pandas.util.testing is deprecated. Use the functions in the public API at pandas.testing instead.\n",
            "  import pandas.util.testing as tm\n"
          ],
          "name": "stderr"
        }
      ]
    },
    {
      "cell_type": "code",
      "metadata": {
        "colab_type": "code",
        "id": "cg1hfKCPldZG",
        "colab": {}
      },
      "source": [
        "def plot_series(time, series, format=\"-\", start=0, end=None, label=None):\n",
        "    plt.plot(time[start:end], series[start:end], format, label=label)\n",
        "    plt.xlabel(\"Time\")\n",
        "    plt.ylabel(\"Value\")\n",
        "    if label:\n",
        "        plt.legend(fontsize=14)\n",
        "    plt.grid(True)\n",
        "\n",
        "def model_forecast(model, series, window_size):\n",
        "    ds = tf.data.Dataset.from_tensor_slices(series)\n",
        "    ds = ds.window(window_size, shift=1, drop_remainder=True)\n",
        "    ds = ds.flat_map(lambda w: w.batch(window_size))\n",
        "    ds = ds.batch(32).prefetch(1)\n",
        "    forecast = model.predict(ds)\n",
        "    return forecast\n",
        "\n",
        "def window_dataset(series, window_size, batch_size=128,\n",
        "                   shuffle_buffer=1000):\n",
        "    dataset = tf.data.Dataset.from_tensor_slices(series)\n",
        "    dataset = dataset.window(window_size + 1, shift=1, drop_remainder=True)\n",
        "    dataset = dataset.flat_map(lambda window: window.batch(window_size + 1))\n",
        "    dataset = dataset.shuffle(shuffle_buffer)\n",
        "    dataset = dataset.map(lambda window: (window[:-1], window[-1]))\n",
        "    dataset = dataset.batch(batch_size).prefetch(1)\n",
        "    return dataset"
      ],
      "execution_count": null,
      "outputs": []
    },
    {
      "cell_type": "markdown",
      "metadata": {
        "colab_type": "text",
        "id": "ViWVB9qd8OIR"
      },
      "source": [
        "## Forecasting with Machine Learning\n",
        "\n",
        "First, we will train a model to forecast the next step given the previous 30 steps, therefore, we need to create a dataset of 20-step windows for training. Every 20 steps is 1 trading month since the markets are only open Monday - Friday."
      ]
    },
    {
      "cell_type": "code",
      "metadata": {
        "colab_type": "code",
        "id": "Zmp1JXKxk9Vb",
        "colab": {}
      },
      "source": [
        "# Read in data\n",
        "spy = pd.read_csv('SPY.csv')\n",
        "\n",
        "# Convert series into datetime type\n",
        "spy['Date'] = pd.to_datetime(spy['Date'])\n",
        "\n",
        "# Save target series\n",
        "series = spy['Close']\n",
        "\n",
        "# Create train data set\n",
        "train_split_date = '2014-12-31'\n",
        "train_split_index = np.where(spy.Date == train_split_date)[0][0]\n",
        "x_train = spy.loc[spy['Date'] <= train_split_date]['Close']\n",
        "\n",
        "# Create test data set\n",
        "test_split_date = '2019-01-02'\n",
        "test_split_index = np.where(spy.Date == test_split_date)[0][0]\n",
        "x_test = spy.loc[spy['Date'] >= test_split_date]['Close']\n",
        "\n",
        "# Create valid data set\n",
        "valid_split_index = (train_split_index.max(),test_split_index.min())\n",
        "x_valid = spy.loc[(spy['Date'] < test_split_date) & (spy['Date'] > train_split_date)]['Close']"
      ],
      "execution_count": null,
      "outputs": []
    },
    {
      "cell_type": "code",
      "metadata": {
        "id": "xxpJz3EkErei",
        "colab_type": "code",
        "colab": {
          "base_uri": "https://localhost:8080/",
          "height": 282
        },
        "outputId": "de75b690-3577-4529-ef77-8abefc82932f"
      },
      "source": [
        "# Plot all lines on one chart to see where one segment starts and another ends\n",
        "plt.plot(x_train, label = 'Train')\n",
        "plt.plot(x_valid, label = 'Validate')\n",
        "plt.plot(x_test, label = 'Test')\n",
        "plt.legend()\n",
        "print(x_train.index.max(),x_valid.index.min(),x_valid.index.max(),x_test.index.min(),x_test.index.max())"
      ],
      "execution_count": null,
      "outputs": [
        {
          "output_type": "stream",
          "text": [
            "5521 5522 6527 6528 6949\n"
          ],
          "name": "stdout"
        },
        {
          "output_type": "display_data",
          "data": {
            "image/png": "[encoded data removed]",
            "text/plain": [
              "<Figure size 432x288 with 1 Axes>"
            ]
          },
          "metadata": {
            "tags": [],
            "needs_background": "light"
          }
        }
      ]
    },
    {
      "cell_type": "code",
      "metadata": {
        "id": "xTOs5lgVEtuG",
        "colab_type": "code",
        "colab": {}
      },
      "source": [
        "# Reshape values\n",
        "x_train_values = x_train.values.reshape(-1, 1)\n",
        "x_valid_values = x_valid.values.reshape(-1, 1)\n",
        "x_test_values = x_test.values.reshape(-1, 1)\n",
        "\n",
        "#  Create Scaler Object\n",
        "x_train_scaler = MinMaxScaler(feature_range=(0, 1))\n",
        "\n",
        "# Fit x_train values\n",
        "normalized_x_train = x_train_scaler.fit_transform(x_train_values)\n",
        "\n",
        "# Fit x_valid values\n",
        "normalized_x_valid = x_train_scaler.transform(x_valid_values)\n",
        "\n",
        "# Fit x_test values\n",
        "normalized_x_test = x_train_scaler.transform(x_test_values)\n",
        "\n",
        "# All values normalized to training data\n",
        "spy_normalized_to_traindata = x_train_scaler.transform(series.values.reshape(-1, 1))\n",
        "\n",
        "# Example of how to iverse\n",
        "# inversed = scaler.inverse_transform(normalized_x_train).flatten()"
      ],
      "execution_count": null,
      "outputs": []
    },
    {
      "cell_type": "markdown",
      "metadata": {
        "colab_type": "text",
        "id": "9nEM33dZ8OIp"
      },
      "source": [
        "### Dense Model Forecasting"
      ]
    },
    {
      "cell_type": "markdown",
      "metadata": {
        "id": "ZZiFRsKOW65u",
        "colab_type": "text"
      },
      "source": [
        "#### Find Learning Rate"
      ]
    },
    {
      "cell_type": "code",
      "metadata": {
        "colab_type": "code",
        "id": "RhGTv4G_8OIp",
        "colab": {
          "base_uri": "https://localhost:8080/",
          "height": 1000
        },
        "outputId": "ef71f8d0-d990-4f63-c76e-f67a5d7de524"
      },
      "source": [
        "keras.backend.clear_session()\n",
        "tf.random.set_seed(42)\n",
        "np.random.seed(42)\n",
        "\n",
        "window_size = 20\n",
        "train_set = window_dataset(normalized_x_train.flatten(), window_size)\n",
        "\n",
        "model = keras.models.Sequential([\n",
        "  keras.layers.Dense(10, activation=\"relu\", input_shape=[window_size]),\n",
        "  keras.layers.Dense(10, activation=\"relu\"),\n",
        "  keras.layers.Dense(1)\n",
        "])\n",
        "\n",
        "lr_schedule = keras.callbacks.LearningRateScheduler(\n",
        "    lambda epoch: 1e-7 * 10**(epoch / 20))\n",
        "optimizer = keras.optimizers.Nadam(lr=1e-7)\n",
        "model.compile(loss=keras.losses.Huber(),\n",
        "              optimizer=optimizer,\n",
        "              metrics=[\"mae\"])\n",
        "history = model.fit(train_set, epochs=100, callbacks=[lr_schedule])"
      ],
      "execution_count": null,
      "outputs": [
        {
          "output_type": "stream",
          "text": [
            "Epoch 1/100\n",
            "43/43 [==============================] - 1s 14ms/step - loss: 0.2011 - mae: 0.5516\n",
            "Epoch 2/100\n",
            "43/43 [==============================] - 1s 12ms/step - loss: 0.2011 - mae: 0.5515\n",
            "Epoch 3/100\n",
            "43/43 [==============================] - 1s 15ms/step - loss: 0.2010 - mae: 0.5514\n",
            "Epoch 4/100\n",
            "43/43 [==============================] - 1s 17ms/step - loss: 0.2009 - mae: 0.5512\n",
            "Epoch 5/100\n",
            "43/43 [==============================] - 1s 14ms/step - loss: 0.2008 - mae: 0.5511\n",
            "Epoch 6/100\n",
            "43/43 [==============================] - 1s 14ms/step - loss: 0.2007 - mae: 0.5510\n",
            "Epoch 7/100\n",
            "43/43 [==============================] - 1s 15ms/step - loss: 0.2006 - mae: 0.5508\n",
            "Epoch 8/100\n",
            "43/43 [==============================] - 1s 14ms/step - loss: 0.2005 - mae: 0.5506\n",
            "Epoch 9/100\n",
            "43/43 [==============================] - 1s 14ms/step - loss: 0.2003 - mae: 0.5504\n",
            "Epoch 10/100\n",
            "43/43 [==============================] - 1s 16ms/step - loss: 0.2002 - mae: 0.5502\n",
            "Epoch 11/100\n",
            "43/43 [==============================] - 1s 12ms/step - loss: 0.2000 - mae: 0.5499\n",
            "Epoch 12/100\n",
            "43/43 [==============================] - 1s 12ms/step - loss: 0.1998 - mae: 0.5496\n",
            "Epoch 13/100\n",
            "43/43 [==============================] - 1s 13ms/step - loss: 0.1996 - mae: 0.5493\n",
            "Epoch 14/100\n",
            "43/43 [==============================] - 1s 13ms/step - loss: 0.1994 - mae: 0.5489\n",
            "Epoch 15/100\n",
            "43/43 [==============================] - 1s 12ms/step - loss: 0.1991 - mae: 0.5485\n",
            "Epoch 16/100\n",
            "43/43 [==============================] - 1s 14ms/step - loss: 0.1988 - mae: 0.5481\n",
            "Epoch 17/100\n",
            "43/43 [==============================] - 1s 14ms/step - loss: 0.1984 - mae: 0.5475\n",
            "Epoch 18/100\n",
            "43/43 [==============================] - 1s 12ms/step - loss: 0.1981 - mae: 0.5470\n",
            "Epoch 19/100\n",
            "43/43 [==============================] - 1s 13ms/step - loss: 0.1976 - mae: 0.5463\n",
            "Epoch 20/100\n",
            "43/43 [==============================] - 1s 13ms/step - loss: 0.1972 - mae: 0.5456\n",
            "Epoch 21/100\n",
            "43/43 [==============================] - 1s 14ms/step - loss: 0.1966 - mae: 0.5448\n",
            "Epoch 22/100\n",
            "43/43 [==============================] - 1s 13ms/step - loss: 0.1960 - mae: 0.5439\n",
            "Epoch 23/100\n",
            "43/43 [==============================] - 1s 12ms/step - loss: 0.1953 - mae: 0.5428\n",
            "Epoch 24/100\n",
            "43/43 [==============================] - 1s 12ms/step - loss: 0.1946 - mae: 0.5417\n",
            "Epoch 25/100\n",
            "43/43 [==============================] - 1s 14ms/step - loss: 0.1937 - mae: 0.5404\n",
            "Epoch 26/100\n",
            "43/43 [==============================] - 1s 13ms/step - loss: 0.1928 - mae: 0.5390\n",
            "Epoch 27/100\n",
            "43/43 [==============================] - 1s 13ms/step - loss: 0.1917 - mae: 0.5374\n",
            "Epoch 28/100\n",
            "43/43 [==============================] - 1s 13ms/step - loss: 0.1906 - mae: 0.5356\n",
            "Epoch 29/100\n",
            "43/43 [==============================] - 1s 16ms/step - loss: 0.1893 - mae: 0.5335\n",
            "Epoch 30/100\n",
            "43/43 [==============================] - 1s 14ms/step - loss: 0.1878 - mae: 0.5313\n",
            "Epoch 31/100\n",
            "43/43 [==============================] - 1s 14ms/step - loss: 0.1861 - mae: 0.5287\n",
            "Epoch 32/100\n",
            "43/43 [==============================] - 1s 13ms/step - loss: 0.1843 - mae: 0.5259\n",
            "Epoch 33/100\n",
            "43/43 [==============================] - 1s 13ms/step - loss: 0.1823 - mae: 0.5227\n",
            "Epoch 34/100\n",
            "43/43 [==============================] - 1s 12ms/step - loss: 0.1800 - mae: 0.5192\n",
            "Epoch 35/100\n",
            "43/43 [==============================] - 1s 13ms/step - loss: 0.1775 - mae: 0.5152\n",
            "Epoch 36/100\n",
            "43/43 [==============================] - 0s 11ms/step - loss: 0.1747 - mae: 0.5108\n",
            "Epoch 37/100\n",
            "43/43 [==============================] - 1s 13ms/step - loss: 0.1716 - mae: 0.5058\n",
            "Epoch 38/100\n",
            "43/43 [==============================] - 1s 13ms/step - loss: 0.1682 - mae: 0.5003\n",
            "Epoch 39/100\n",
            "43/43 [==============================] - 1s 13ms/step - loss: 0.1644 - mae: 0.4942\n",
            "Epoch 40/100\n",
            "43/43 [==============================] - 1s 12ms/step - loss: 0.1602 - mae: 0.4874\n",
            "Epoch 41/100\n",
            "43/43 [==============================] - 1s 13ms/step - loss: 0.1555 - mae: 0.4798\n",
            "Epoch 42/100\n",
            "43/43 [==============================] - 1s 12ms/step - loss: 0.1505 - mae: 0.4714\n",
            "Epoch 43/100\n",
            "43/43 [==============================] - 1s 14ms/step - loss: 0.1450 - mae: 0.4621\n",
            "Epoch 44/100\n",
            "43/43 [==============================] - 1s 12ms/step - loss: 0.1389 - mae: 0.4518\n",
            "Epoch 45/100\n",
            "43/43 [==============================] - 1s 14ms/step - loss: 0.1324 - mae: 0.4405\n",
            "Epoch 46/100\n",
            "43/43 [==============================] - 1s 12ms/step - loss: 0.1254 - mae: 0.4280\n",
            "Epoch 47/100\n",
            "43/43 [==============================] - 1s 13ms/step - loss: 0.1178 - mae: 0.4144\n",
            "Epoch 48/100\n",
            "43/43 [==============================] - 1s 12ms/step - loss: 0.1097 - mae: 0.3995\n",
            "Epoch 49/100\n",
            "43/43 [==============================] - 1s 12ms/step - loss: 0.1012 - mae: 0.3831\n",
            "Epoch 50/100\n",
            "43/43 [==============================] - 1s 12ms/step - loss: 0.0922 - mae: 0.3653\n",
            "Epoch 51/100\n",
            "43/43 [==============================] - 1s 12ms/step - loss: 0.0829 - mae: 0.3459\n",
            "Epoch 52/100\n",
            "43/43 [==============================] - 1s 14ms/step - loss: 0.0734 - mae: 0.3250\n",
            "Epoch 53/100\n",
            "43/43 [==============================] - 1s 13ms/step - loss: 0.0639 - mae: 0.3027\n",
            "Epoch 54/100\n",
            "43/43 [==============================] - 1s 13ms/step - loss: 0.0545 - mae: 0.2793\n",
            "Epoch 55/100\n",
            "43/43 [==============================] - 1s 15ms/step - loss: 0.0463 - mae: 0.2571\n",
            "Epoch 56/100\n",
            "43/43 [==============================] - 1s 13ms/step - loss: 0.0394 - mae: 0.2367\n",
            "Epoch 57/100\n",
            "43/43 [==============================] - 1s 13ms/step - loss: 0.0330 - mae: 0.2162\n",
            "Epoch 58/100\n",
            "43/43 [==============================] - 1s 13ms/step - loss: 0.0269 - mae: 0.1947\n",
            "Epoch 59/100\n",
            "43/43 [==============================] - 1s 13ms/step - loss: 0.0213 - mae: 0.1725\n",
            "Epoch 60/100\n",
            "43/43 [==============================] - 1s 13ms/step - loss: 0.0162 - mae: 0.1500\n",
            "Epoch 61/100\n",
            "43/43 [==============================] - 1s 15ms/step - loss: 0.0119 - mae: 0.1277\n",
            "Epoch 62/100\n",
            "43/43 [==============================] - 1s 12ms/step - loss: 0.0083 - mae: 0.1062\n",
            "Epoch 63/100\n",
            "43/43 [==============================] - 1s 16ms/step - loss: 0.0056 - mae: 0.0864\n",
            "Epoch 64/100\n",
            "43/43 [==============================] - 1s 16ms/step - loss: 0.0037 - mae: 0.0691\n",
            "Epoch 65/100\n",
            "43/43 [==============================] - 1s 14ms/step - loss: 0.0024 - mae: 0.0553\n",
            "Epoch 66/100\n",
            "43/43 [==============================] - 1s 12ms/step - loss: 0.0017 - mae: 0.0457\n",
            "Epoch 67/100\n",
            "43/43 [==============================] - 1s 14ms/step - loss: 0.0014 - mae: 0.0404\n",
            "Epoch 68/100\n",
            "43/43 [==============================] - 1s 13ms/step - loss: 0.0012 - mae: 0.0381\n",
            "Epoch 69/100\n",
            "43/43 [==============================] - 1s 12ms/step - loss: 0.0011 - mae: 0.0373\n",
            "Epoch 70/100\n",
            "43/43 [==============================] - 1s 14ms/step - loss: 0.0011 - mae: 0.0369\n",
            "Epoch 71/100\n",
            "43/43 [==============================] - 1s 14ms/step - loss: 0.0010 - mae: 0.0364\n",
            "Epoch 72/100\n",
            "43/43 [==============================] - 1s 13ms/step - loss: 9.7454e-04 - mae: 0.0357\n",
            "Epoch 73/100\n",
            "43/43 [==============================] - 1s 12ms/step - loss: 9.0331e-04 - mae: 0.0345\n",
            "Epoch 74/100\n",
            "43/43 [==============================] - 1s 14ms/step - loss: 7.6208e-04 - mae: 0.0316\n",
            "Epoch 75/100\n",
            "43/43 [==============================] - 1s 13ms/step - loss: 6.0085e-04 - mae: 0.0282\n",
            "Epoch 76/100\n",
            "43/43 [==============================] - 1s 13ms/step - loss: 4.2562e-04 - mae: 0.0238\n",
            "Epoch 77/100\n",
            "43/43 [==============================] - 1s 14ms/step - loss: 2.9549e-04 - mae: 0.0197\n",
            "Epoch 78/100\n",
            "43/43 [==============================] - 1s 12ms/step - loss: 2.2111e-04 - mae: 0.0165\n",
            "Epoch 79/100\n",
            "43/43 [==============================] - 1s 15ms/step - loss: 1.9089e-04 - mae: 0.0145\n",
            "Epoch 80/100\n",
            "43/43 [==============================] - 1s 14ms/step - loss: 1.8168e-04 - mae: 0.0137\n",
            "Epoch 81/100\n",
            "43/43 [==============================] - 1s 14ms/step - loss: 1.7846e-04 - mae: 0.0135\n",
            "Epoch 82/100\n",
            "43/43 [==============================] - 1s 12ms/step - loss: 1.7742e-04 - mae: 0.0135\n",
            "Epoch 83/100\n",
            "43/43 [==============================] - 1s 14ms/step - loss: 1.7492e-04 - mae: 0.0134\n",
            "Epoch 84/100\n",
            "43/43 [==============================] - 1s 13ms/step - loss: 1.7351e-04 - mae: 0.0134\n",
            "Epoch 85/100\n",
            "43/43 [==============================] - 1s 14ms/step - loss: 1.7189e-04 - mae: 0.0133\n",
            "Epoch 86/100\n",
            "43/43 [==============================] - 1s 13ms/step - loss: 1.7037e-04 - mae: 0.0132\n",
            "Epoch 87/100\n",
            "43/43 [==============================] - 1s 13ms/step - loss: 1.6769e-04 - mae: 0.0131\n",
            "Epoch 88/100\n",
            "43/43 [==============================] - 1s 13ms/step - loss: 1.6421e-04 - mae: 0.0130\n",
            "Epoch 89/100\n",
            "43/43 [==============================] - 1s 12ms/step - loss: 1.6325e-04 - mae: 0.0129\n",
            "Epoch 90/100\n",
            "43/43 [==============================] - 1s 13ms/step - loss: 1.6127e-04 - mae: 0.0128\n",
            "Epoch 91/100\n",
            "43/43 [==============================] - 1s 13ms/step - loss: 1.5731e-04 - mae: 0.0126\n",
            "Epoch 92/100\n",
            "43/43 [==============================] - 1s 13ms/step - loss: 1.5698e-04 - mae: 0.0126\n",
            "Epoch 93/100\n",
            "43/43 [==============================] - 1s 16ms/step - loss: 1.5572e-04 - mae: 0.0127\n",
            "Epoch 94/100\n",
            "43/43 [==============================] - 1s 12ms/step - loss: 1.5131e-04 - mae: 0.0125\n",
            "Epoch 95/100\n",
            "43/43 [==============================] - 1s 13ms/step - loss: 1.4620e-04 - mae: 0.0122\n",
            "Epoch 96/100\n",
            "43/43 [==============================] - 1s 12ms/step - loss: 1.5027e-04 - mae: 0.0124\n",
            "Epoch 97/100\n",
            "43/43 [==============================] - 1s 13ms/step - loss: 1.4509e-04 - mae: 0.0122\n",
            "Epoch 98/100\n",
            "43/43 [==============================] - 1s 15ms/step - loss: 1.5175e-04 - mae: 0.0124\n",
            "Epoch 99/100\n",
            "43/43 [==============================] - 1s 13ms/step - loss: 1.4290e-04 - mae: 0.0126\n",
            "Epoch 100/100\n",
            "43/43 [==============================] - 1s 13ms/step - loss: 1.7159e-04 - mae: 0.0131\n"
          ],
          "name": "stdout"
        }
      ]
    },
    {
      "cell_type": "code",
      "metadata": {
        "colab_type": "code",
        "id": "5g-nC_em8OIq",
        "colab": {
          "base_uri": "https://localhost:8080/",
          "height": 290
        },
        "outputId": "b3b4c449-4c8d-4c26-deb1-ac9174cbb349"
      },
      "source": [
        "plt.semilogx(history.history[\"lr\"], history.history[\"loss\"])\n",
        "plt.axis([1e-7, 1, 0, .1])"
      ],
      "execution_count": null,
      "outputs": [
        {
          "output_type": "execute_result",
          "data": {
            "text/plain": [
              "(1e-07, 1.0, 0.0, 0.1)"
            ]
          },
          "metadata": {
            "tags": []
          },
          "execution_count": 22
        },
        {
          "output_type": "display_data",
          "data": {
            "image/png": "[encoded data removed]",
            "text/plain": [
              "<Figure size 432x288 with 1 Axes>"
            ]
          },
          "metadata": {
            "tags": [],
            "needs_background": "light"
          }
        }
      ]
    },
    {
      "cell_type": "markdown",
      "metadata": {
        "id": "0uzfjgZLXDVF",
        "colab_type": "text"
      },
      "source": [
        "#### Create Model"
      ]
    },
    {
      "cell_type": "code",
      "metadata": {
        "colab_type": "code",
        "id": "B7t0VrCH8OIr",
        "colab": {
          "base_uri": "https://localhost:8080/",
          "height": 1000
        },
        "outputId": "837c3482-516c-4719-d513-42ef36ef99ec"
      },
      "source": [
        "# Clear back end\n",
        "keras.backend.clear_session()\n",
        "\n",
        "# Ensure reproducibility\n",
        "tf.random.set_seed(42)\n",
        "np.random.seed(42)\n",
        "\n",
        "# Set Window Size\n",
        "window_size = 30\n",
        "train_set = window_dataset(normalized_x_train.flatten(), window_size)\n",
        "valid_set = window_dataset(normalized_x_valid.flatten(), window_size)\n",
        "\n",
        "# Build 2 layer model with 10 neurons each and 1 output layer\n",
        "model = keras.models.Sequential([\n",
        "  keras.layers.Dense(10, activation=\"relu\", input_shape=[window_size]),\n",
        "  keras.layers.Dense(10, activation=\"relu\"),\n",
        "  keras.layers.Dense(1)\n",
        "])\n",
        "\n",
        "# Set optimizer\n",
        "optimizer = keras.optimizers.Nadam(lr=1e-2)\n",
        "model.compile(loss=keras.losses.Huber(),\n",
        "              optimizer=optimizer,\n",
        "              metrics=[\"mae\"])\n",
        "\n",
        "# Set early Stopping\n",
        "early_stopping = keras.callbacks.EarlyStopping(patience=20)\n",
        "\n",
        "# create save points for best model\n",
        "model_checkpoint = keras.callbacks.ModelCheckpoint(\n",
        "    \"my_checkpoint\", save_best_only=True)\n",
        "\n",
        "# Fit model\n",
        "history = model.fit(train_set, epochs=500,\n",
        "                    validation_data=valid_set,\n",
        "                    callbacks=[early_stopping, model_checkpoint])"
      ],
      "execution_count": null,
      "outputs": [
        {
          "output_type": "stream",
          "text": [
            "Epoch 1/500\n",
            "     36/Unknown - 1s 14ms/step - loss: 0.0015 - mae: 0.0411WARNING:tensorflow:From /usr/local/lib/python3.6/dist-packages/tensorflow/python/training/tracking/tracking.py:111: Model.state_updates (from tensorflow.python.keras.engine.training) is deprecated and will be removed in a future version.\n",
            "Instructions for updating:\n",
            "This property should not be used in TensorFlow 2.0, as updates are applied automatically.\n",
            "WARNING:tensorflow:From /usr/local/lib/python3.6/dist-packages/tensorflow/python/training/tracking/tracking.py:111: Layer.updates (from tensorflow.python.keras.engine.base_layer) is deprecated and will be removed in a future version.\n",
            "Instructions for updating:\n",
            "This property should not be used in TensorFlow 2.0, as updates are applied automatically.\n",
            "INFO:tensorflow:Assets written to: my_checkpoint/assets\n",
            "43/43 [==============================] - 1s 34ms/step - loss: 0.0029 - mae: 0.0486 - val_loss: 6.9175e-04 - val_mae: 0.0291\n",
            "Epoch 2/500\n",
            "43/43 [==============================] - 1s 16ms/step - loss: 2.4322e-04 - mae: 0.0164 - val_loss: 0.0030 - val_mae: 0.0714\n",
            "Epoch 3/500\n",
            "43/43 [==============================] - 1s 16ms/step - loss: 0.0020 - mae: 0.0329 - val_loss: 0.0034 - val_mae: 0.0752\n",
            "Epoch 4/500\n",
            "43/43 [==============================] - 1s 17ms/step - loss: 2.1677e-04 - mae: 0.0156 - val_loss: 7.0642e-04 - val_mae: 0.0256\n",
            "Epoch 5/500\n",
            "43/43 [==============================] - 1s 18ms/step - loss: 5.0527e-04 - mae: 0.0202 - val_loss: 0.0128 - val_mae: 0.1549\n",
            "Epoch 6/500\n",
            "43/43 [==============================] - 1s 17ms/step - loss: 1.9926e-04 - mae: 0.0151 - val_loss: 8.0172e-04 - val_mae: 0.0340\n",
            "Epoch 7/500\n",
            "43/43 [==============================] - 1s 17ms/step - loss: 6.2152e-04 - mae: 0.0194 - val_loss: 0.0643 - val_mae: 0.3531\n",
            "Epoch 8/500\n",
            "43/43 [==============================] - 1s 17ms/step - loss: 0.0014 - mae: 0.0300 - val_loss: 0.0434 - val_mae: 0.2896\n",
            "Epoch 9/500\n",
            "43/43 [==============================] - 1s 18ms/step - loss: 0.0010 - mae: 0.0285 - val_loss: 0.0431 - val_mae: 0.2887\n",
            "Epoch 10/500\n",
            "43/43 [==============================] - 1s 18ms/step - loss: 2.6672e-04 - mae: 0.0170 - val_loss: 0.0011 - val_mae: 0.0353\n",
            "Epoch 11/500\n",
            "43/43 [==============================] - 1s 17ms/step - loss: 1.7195e-04 - mae: 0.0138 - val_loss: 0.0037 - val_mae: 0.0793\n",
            "Epoch 12/500\n",
            "43/43 [==============================] - 1s 18ms/step - loss: 1.7421e-04 - mae: 0.0139 - val_loss: 0.0047 - val_mae: 0.0920\n",
            "Epoch 13/500\n",
            "43/43 [==============================] - 1s 18ms/step - loss: 1.8074e-04 - mae: 0.0140 - val_loss: 0.0046 - val_mae: 0.0907\n",
            "Epoch 14/500\n",
            "43/43 [==============================] - 1s 17ms/step - loss: 2.5683e-04 - mae: 0.0154 - val_loss: 0.0174 - val_mae: 0.1819\n",
            "Epoch 15/500\n",
            "43/43 [==============================] - 1s 17ms/step - loss: 3.9480e-04 - mae: 0.0186 - val_loss: 0.0474 - val_mae: 0.3034\n",
            "Epoch 16/500\n",
            "43/43 [==============================] - 1s 18ms/step - loss: 3.1231e-04 - mae: 0.0189 - val_loss: 0.0044 - val_mae: 0.0886\n",
            "Epoch 17/500\n",
            "43/43 [==============================] - 1s 18ms/step - loss: 3.9205e-04 - mae: 0.0178 - val_loss: 0.0355 - val_mae: 0.2618\n",
            "Epoch 18/500\n",
            "43/43 [==============================] - 1s 18ms/step - loss: 7.8858e-04 - mae: 0.0240 - val_loss: 0.0717 - val_mae: 0.3736\n",
            "Epoch 19/500\n",
            "37/43 [========================>.....] - ETA: 0s - loss: 4.0185e-04 - mae: 0.0210INFO:tensorflow:Assets written to: my_checkpoint/assets\n",
            "43/43 [==============================] - 1s 28ms/step - loss: 3.8366e-04 - mae: 0.0205 - val_loss: 6.8575e-04 - val_mae: 0.0312\n",
            "Epoch 20/500\n",
            "43/43 [==============================] - ETA: 0s - loss: 1.2275e-04 - mae: 0.0115INFO:tensorflow:Assets written to: my_checkpoint/assets\n",
            "43/43 [==============================] - 1s 27ms/step - loss: 1.2275e-04 - mae: 0.0115 - val_loss: 4.0509e-04 - val_mae: 0.0215\n",
            "Epoch 21/500\n",
            "43/43 [==============================] - 1s 17ms/step - loss: 1.9564e-04 - mae: 0.0137 - val_loss: 0.0114 - val_mae: 0.1468\n",
            "Epoch 22/500\n",
            "43/43 [==============================] - 1s 16ms/step - loss: 1.4554e-04 - mae: 0.0128 - val_loss: 0.0013 - val_mae: 0.0420\n",
            "Epoch 23/500\n",
            "43/43 [==============================] - 1s 19ms/step - loss: 6.0419e-04 - mae: 0.0195 - val_loss: 0.0635 - val_mae: 0.3510\n",
            "Epoch 24/500\n",
            "43/43 [==============================] - 1s 17ms/step - loss: 5.5263e-04 - mae: 0.0252 - val_loss: 0.0127 - val_mae: 0.1541\n",
            "Epoch 25/500\n",
            "43/43 [==============================] - 1s 16ms/step - loss: 2.3583e-04 - mae: 0.0151 - val_loss: 0.0110 - val_mae: 0.1447\n",
            "Epoch 26/500\n",
            "43/43 [==============================] - 1s 18ms/step - loss: 6.2320e-04 - mae: 0.0209 - val_loss: 0.0285 - val_mae: 0.2348\n",
            "Epoch 27/500\n",
            "36/43 [========================>.....] - ETA: 0s - loss: 1.9247e-04 - mae: 0.0148INFO:tensorflow:Assets written to: my_checkpoint/assets\n",
            "43/43 [==============================] - 1s 28ms/step - loss: 1.8275e-04 - mae: 0.0144 - val_loss: 3.5815e-04 - val_mae: 0.0196\n",
            "Epoch 28/500\n",
            "43/43 [==============================] - 1s 16ms/step - loss: 1.5982e-04 - mae: 0.0127 - val_loss: 0.0031 - val_mae: 0.0741\n",
            "Epoch 29/500\n",
            "43/43 [==============================] - 1s 18ms/step - loss: 1.2635e-04 - mae: 0.0117 - val_loss: 0.0023 - val_mae: 0.0632\n",
            "Epoch 30/500\n",
            "43/43 [==============================] - 1s 18ms/step - loss: 6.8207e-04 - mae: 0.0198 - val_loss: 0.0235 - val_mae: 0.2131\n",
            "Epoch 31/500\n",
            "43/43 [==============================] - 1s 19ms/step - loss: 2.2992e-04 - mae: 0.0157 - val_loss: 0.0076 - val_mae: 0.1190\n",
            "Epoch 32/500\n",
            "43/43 [==============================] - 1s 18ms/step - loss: 1.4958e-04 - mae: 0.0127 - val_loss: 0.0024 - val_mae: 0.0640\n",
            "Epoch 33/500\n",
            "43/43 [==============================] - 1s 18ms/step - loss: 1.3009e-04 - mae: 0.0119 - val_loss: 0.0024 - val_mae: 0.0647\n",
            "Epoch 34/500\n",
            "36/43 [========================>.....] - ETA: 0s - loss: 9.8502e-05 - mae: 0.0101INFO:tensorflow:Assets written to: my_checkpoint/assets\n",
            "43/43 [==============================] - 1s 27ms/step - loss: 1.0103e-04 - mae: 0.0104 - val_loss: 3.2230e-04 - val_mae: 0.0184\n",
            "Epoch 35/500\n",
            "43/43 [==============================] - 1s 17ms/step - loss: 9.5329e-05 - mae: 0.0098 - val_loss: 9.3711e-04 - val_mae: 0.0353\n",
            "Epoch 36/500\n",
            "43/43 [==============================] - 1s 17ms/step - loss: 9.5531e-05 - mae: 0.0099 - val_loss: 0.0011 - val_mae: 0.0423\n",
            "Epoch 37/500\n",
            "43/43 [==============================] - 1s 16ms/step - loss: 4.0171e-04 - mae: 0.0156 - val_loss: 0.0621 - val_mae: 0.3473\n",
            "Epoch 38/500\n",
            "43/43 [==============================] - 1s 18ms/step - loss: 4.4138e-04 - mae: 0.0216 - val_loss: 0.0073 - val_mae: 0.1178\n",
            "Epoch 39/500\n",
            "43/43 [==============================] - 1s 17ms/step - loss: 1.8919e-04 - mae: 0.0141 - val_loss: 0.0103 - val_mae: 0.1402\n",
            "Epoch 40/500\n",
            "43/43 [==============================] - 1s 17ms/step - loss: 2.5158e-04 - mae: 0.0150 - val_loss: 0.0244 - val_mae: 0.2173\n",
            "Epoch 41/500\n",
            "43/43 [==============================] - 1s 17ms/step - loss: 1.7997e-04 - mae: 0.0140 - val_loss: 0.0020 - val_mae: 0.0579\n",
            "Epoch 42/500\n",
            "43/43 [==============================] - 1s 17ms/step - loss: 1.9304e-04 - mae: 0.0127 - val_loss: 0.0180 - val_mae: 0.1857\n",
            "Epoch 43/500\n",
            "43/43 [==============================] - 1s 17ms/step - loss: 1.3784e-04 - mae: 0.0124 - val_loss: 3.3682e-04 - val_mae: 0.0177\n",
            "Epoch 44/500\n",
            "43/43 [==============================] - 1s 16ms/step - loss: 1.7533e-04 - mae: 0.0122 - val_loss: 0.0114 - val_mae: 0.1476\n",
            "Epoch 45/500\n",
            "43/43 [==============================] - ETA: 0s - loss: 1.1406e-04 - mae: 0.0114INFO:tensorflow:Assets written to: my_checkpoint/assets\n",
            "43/43 [==============================] - 1s 28ms/step - loss: 1.1406e-04 - mae: 0.0114 - val_loss: 3.1410e-04 - val_mae: 0.0196\n",
            "Epoch 46/500\n",
            "43/43 [==============================] - 1s 15ms/step - loss: 9.4102e-04 - mae: 0.0208 - val_loss: 0.0644 - val_mae: 0.3533\n",
            "Epoch 47/500\n",
            "43/43 [==============================] - 1s 19ms/step - loss: 3.7562e-04 - mae: 0.0205 - val_loss: 0.0034 - val_mae: 0.0766\n",
            "Epoch 48/500\n",
            "37/43 [========================>.....] - ETA: 0s - loss: 1.1360e-04 - mae: 0.0108INFO:tensorflow:Assets written to: my_checkpoint/assets\n",
            "43/43 [==============================] - 1s 30ms/step - loss: 1.1491e-04 - mae: 0.0110 - val_loss: 2.8048e-04 - val_mae: 0.0169\n",
            "Epoch 49/500\n",
            "43/43 [==============================] - 1s 18ms/step - loss: 4.9222e-04 - mae: 0.0200 - val_loss: 0.0072 - val_mae: 0.1169\n",
            "Epoch 50/500\n",
            "43/43 [==============================] - 1s 17ms/step - loss: 1.5612e-04 - mae: 0.0130 - val_loss: 0.0019 - val_mae: 0.0572\n",
            "Epoch 51/500\n",
            "43/43 [==============================] - 1s 17ms/step - loss: 8.8285e-05 - mae: 0.0097 - val_loss: 0.0014 - val_mae: 0.0483\n",
            "Epoch 52/500\n",
            "43/43 [==============================] - 1s 17ms/step - loss: 8.2319e-05 - mae: 0.0092 - val_loss: 6.1766e-04 - val_mae: 0.0308\n",
            "Epoch 53/500\n",
            "43/43 [==============================] - 1s 18ms/step - loss: 1.6749e-04 - mae: 0.0118 - val_loss: 0.0066 - val_mae: 0.1113\n",
            "Epoch 54/500\n",
            "43/43 [==============================] - 1s 18ms/step - loss: 1.1897e-04 - mae: 0.0114 - val_loss: 0.0031 - val_mae: 0.0750\n",
            "Epoch 55/500\n",
            "43/43 [==============================] - 1s 18ms/step - loss: 1.0451e-04 - mae: 0.0105 - val_loss: 0.0034 - val_mae: 0.0791\n",
            "Epoch 56/500\n",
            "43/43 [==============================] - 1s 18ms/step - loss: 1.2336e-04 - mae: 0.0110 - val_loss: 0.0055 - val_mae: 0.1014\n",
            "Epoch 57/500\n",
            "43/43 [==============================] - 1s 17ms/step - loss: 8.7549e-05 - mae: 0.0099 - val_loss: 5.4237e-04 - val_mae: 0.0286\n",
            "Epoch 58/500\n",
            "43/43 [==============================] - 1s 18ms/step - loss: 4.4162e-04 - mae: 0.0154 - val_loss: 0.0584 - val_mae: 0.3370\n",
            "Epoch 59/500\n",
            "43/43 [==============================] - 1s 18ms/step - loss: 3.2605e-04 - mae: 0.0188 - val_loss: 3.7197e-04 - val_mae: 0.0220\n",
            "Epoch 60/500\n",
            "43/43 [==============================] - 1s 18ms/step - loss: 8.3775e-05 - mae: 0.0096 - val_loss: 6.8746e-04 - val_mae: 0.0330\n",
            "Epoch 61/500\n",
            "43/43 [==============================] - 1s 18ms/step - loss: 4.3107e-04 - mae: 0.0158 - val_loss: 0.0275 - val_mae: 0.2313\n",
            "Epoch 62/500\n",
            "43/43 [==============================] - 1s 17ms/step - loss: 1.6381e-04 - mae: 0.0132 - val_loss: 3.6612e-04 - val_mae: 0.0188\n",
            "Epoch 63/500\n",
            "42/43 [============================>.] - ETA: 0s - loss: 6.9676e-05 - mae: 0.0086INFO:tensorflow:Assets written to: my_checkpoint/assets\n",
            "43/43 [==============================] - 1s 30ms/step - loss: 7.0046e-05 - mae: 0.0086 - val_loss: 2.4549e-04 - val_mae: 0.0161\n",
            "Epoch 64/500\n",
            "43/43 [==============================] - 1s 18ms/step - loss: 2.2372e-04 - mae: 0.0128 - val_loss: 0.0175 - val_mae: 0.1836\n",
            "Epoch 65/500\n",
            "43/43 [==============================] - 1s 17ms/step - loss: 2.7910e-04 - mae: 0.0167 - val_loss: 0.0118 - val_mae: 0.1499\n",
            "Epoch 66/500\n",
            "43/43 [==============================] - 1s 17ms/step - loss: 1.3506e-04 - mae: 0.0123 - val_loss: 0.0015 - val_mae: 0.0495\n",
            "Epoch 67/500\n",
            "43/43 [==============================] - 1s 18ms/step - loss: 1.0164e-04 - mae: 0.0101 - val_loss: 0.0041 - val_mae: 0.0872\n",
            "Epoch 68/500\n",
            "43/43 [==============================] - 1s 17ms/step - loss: 8.0919e-05 - mae: 0.0093 - val_loss: 3.3062e-04 - val_mae: 0.0210\n",
            "Epoch 69/500\n",
            "43/43 [==============================] - 1s 18ms/step - loss: 1.3207e-04 - mae: 0.0106 - val_loss: 0.0091 - val_mae: 0.1316\n",
            "Epoch 70/500\n",
            "43/43 [==============================] - 1s 17ms/step - loss: 1.2811e-04 - mae: 0.0115 - val_loss: 0.0064 - val_mae: 0.1096\n",
            "Epoch 71/500\n",
            "43/43 [==============================] - 1s 17ms/step - loss: 3.4479e-04 - mae: 0.0157 - val_loss: 0.0346 - val_mae: 0.2588\n",
            "Epoch 72/500\n",
            "43/43 [==============================] - 1s 18ms/step - loss: 2.9486e-04 - mae: 0.0179 - val_loss: 0.0040 - val_mae: 0.0868\n",
            "Epoch 73/500\n",
            "39/43 [==========================>...] - ETA: 0s - loss: 9.0584e-05 - mae: 0.0099INFO:tensorflow:Assets written to: my_checkpoint/assets\n",
            "43/43 [==============================] - 1s 29ms/step - loss: 9.0363e-05 - mae: 0.0099 - val_loss: 2.4221e-04 - val_mae: 0.0167\n",
            "Epoch 74/500\n",
            "43/43 [==============================] - 1s 17ms/step - loss: 1.2586e-04 - mae: 0.0103 - val_loss: 0.0062 - val_mae: 0.1084\n",
            "Epoch 75/500\n",
            "43/43 [==============================] - 1s 18ms/step - loss: 8.2119e-05 - mae: 0.0096 - val_loss: 2.4618e-04 - val_mae: 0.0171\n",
            "Epoch 76/500\n",
            "43/43 [==============================] - 1s 17ms/step - loss: 7.3297e-05 - mae: 0.0086 - val_loss: 0.0027 - val_mae: 0.0698\n",
            "Epoch 77/500\n",
            "43/43 [==============================] - 1s 16ms/step - loss: 4.9082e-04 - mae: 0.0163 - val_loss: 0.0272 - val_mae: 0.2303\n",
            "Epoch 78/500\n",
            "43/43 [==============================] - 1s 17ms/step - loss: 0.0015 - mae: 0.0317 - val_loss: 2.6856e-04 - val_mae: 0.0174\n",
            "Epoch 79/500\n",
            "43/43 [==============================] - ETA: 0s - loss: 3.6879e-04 - mae: 0.0172INFO:tensorflow:Assets written to: my_checkpoint/assets\n",
            "43/43 [==============================] - 1s 33ms/step - loss: 3.6879e-04 - mae: 0.0172 - val_loss: 2.3838e-04 - val_mae: 0.0146\n",
            "Epoch 80/500\n",
            "43/43 [==============================] - 1s 18ms/step - loss: 9.8251e-05 - mae: 0.0111 - val_loss: 2.6916e-04 - val_mae: 0.0152\n",
            "Epoch 81/500\n",
            "43/43 [==============================] - 1s 17ms/step - loss: 7.3113e-05 - mae: 0.0092 - val_loss: 3.0673e-04 - val_mae: 0.0167\n",
            "Epoch 82/500\n",
            "43/43 [==============================] - 1s 16ms/step - loss: 6.9199e-05 - mae: 0.0087 - val_loss: 3.8825e-04 - val_mae: 0.0237\n",
            "Epoch 83/500\n",
            "43/43 [==============================] - 1s 17ms/step - loss: 6.6651e-05 - mae: 0.0085 - val_loss: 5.3513e-04 - val_mae: 0.0255\n",
            "Epoch 84/500\n",
            "43/43 [==============================] - 1s 17ms/step - loss: 6.7465e-05 - mae: 0.0085 - val_loss: 5.2859e-04 - val_mae: 0.0253\n",
            "Epoch 85/500\n",
            "43/43 [==============================] - 1s 16ms/step - loss: 6.2883e-05 - mae: 0.0082 - val_loss: 3.5918e-04 - val_mae: 0.0190\n",
            "Epoch 86/500\n",
            "43/43 [==============================] - 1s 17ms/step - loss: 6.9616e-05 - mae: 0.0085 - val_loss: 0.0013 - val_mae: 0.0468\n",
            "Epoch 87/500\n",
            "43/43 [==============================] - 1s 18ms/step - loss: 6.4492e-05 - mae: 0.0084 - val_loss: 2.8320e-04 - val_mae: 0.0193\n",
            "Epoch 88/500\n",
            "43/43 [==============================] - 1s 21ms/step - loss: 8.9155e-05 - mae: 0.0093 - val_loss: 0.0035 - val_mae: 0.0802\n",
            "Epoch 89/500\n",
            "43/43 [==============================] - 1s 18ms/step - loss: 1.8532e-04 - mae: 0.0126 - val_loss: 0.0169 - val_mae: 0.1806\n",
            "Epoch 90/500\n",
            "40/43 [==========================>...] - ETA: 0s - loss: 1.2953e-04 - mae: 0.0121INFO:tensorflow:Assets written to: my_checkpoint/assets\n",
            "43/43 [==============================] - 1s 27ms/step - loss: 1.2638e-04 - mae: 0.0119 - val_loss: 2.1172e-04 - val_mae: 0.0148\n",
            "Epoch 91/500\n",
            "43/43 [==============================] - 1s 18ms/step - loss: 1.5331e-04 - mae: 0.0111 - val_loss: 0.0121 - val_mae: 0.1526\n",
            "Epoch 92/500\n",
            "43/43 [==============================] - 1s 18ms/step - loss: 1.1104e-04 - mae: 0.0114 - val_loss: 9.9723e-04 - val_mae: 0.0395\n",
            "Epoch 93/500\n",
            "43/43 [==============================] - 1s 17ms/step - loss: 1.4646e-04 - mae: 0.0112 - val_loss: 0.0102 - val_mae: 0.1399\n",
            "Epoch 94/500\n",
            "43/43 [==============================] - 1s 19ms/step - loss: 2.6999e-04 - mae: 0.0152 - val_loss: 0.0213 - val_mae: 0.2029\n",
            "Epoch 95/500\n",
            "43/43 [==============================] - 1s 18ms/step - loss: 1.9563e-04 - mae: 0.0148 - val_loss: 0.0056 - val_mae: 0.1034\n",
            "Epoch 96/500\n",
            "43/43 [==============================] - 1s 17ms/step - loss: 1.2895e-04 - mae: 0.0116 - val_loss: 0.0074 - val_mae: 0.1190\n",
            "Epoch 97/500\n",
            "43/43 [==============================] - 1s 18ms/step - loss: 1.1521e-04 - mae: 0.0115 - val_loss: 0.0036 - val_mae: 0.0812\n",
            "Epoch 98/500\n",
            "43/43 [==============================] - 1s 17ms/step - loss: 7.7786e-05 - mae: 0.0094 - val_loss: 0.0020 - val_mae: 0.0589\n",
            "Epoch 99/500\n",
            "43/43 [==============================] - 1s 20ms/step - loss: 2.6625e-04 - mae: 0.0137 - val_loss: 0.0169 - val_mae: 0.1810\n",
            "Epoch 100/500\n",
            "43/43 [==============================] - 1s 18ms/step - loss: 1.1992e-04 - mae: 0.0117 - val_loss: 0.0013 - val_mae: 0.0457\n",
            "Epoch 101/500\n",
            "43/43 [==============================] - ETA: 0s - loss: 5.9928e-05 - mae: 0.0082INFO:tensorflow:Assets written to: my_checkpoint/assets\n",
            "43/43 [==============================] - 1s 29ms/step - loss: 5.9928e-05 - mae: 0.0082 - val_loss: 2.0259e-04 - val_mae: 0.0148\n",
            "Epoch 102/500\n",
            "43/43 [==============================] - 1s 18ms/step - loss: 5.7421e-05 - mae: 0.0079 - val_loss: 0.0011 - val_mae: 0.0416\n",
            "Epoch 103/500\n",
            "43/43 [==============================] - 1s 19ms/step - loss: 7.0938e-05 - mae: 0.0086 - val_loss: 0.0021 - val_mae: 0.0616\n",
            "Epoch 104/500\n",
            "43/43 [==============================] - 1s 18ms/step - loss: 2.9503e-04 - mae: 0.0136 - val_loss: 0.0373 - val_mae: 0.2693\n",
            "Epoch 105/500\n",
            "43/43 [==============================] - 1s 18ms/step - loss: 2.3472e-04 - mae: 0.0158 - val_loss: 9.7447e-04 - val_mae: 0.0394\n",
            "Epoch 106/500\n",
            "37/43 [========================>.....] - ETA: 0s - loss: 6.3148e-05 - mae: 0.0083INFO:tensorflow:Assets written to: my_checkpoint/assets\n",
            "43/43 [==============================] - 1s 30ms/step - loss: 6.4445e-05 - mae: 0.0085 - val_loss: 1.9007e-04 - val_mae: 0.0137\n",
            "Epoch 107/500\n",
            "43/43 [==============================] - 1s 18ms/step - loss: 2.9364e-04 - mae: 0.0130 - val_loss: 0.0414 - val_mae: 0.2836\n",
            "Epoch 108/500\n",
            "43/43 [==============================] - 1s 17ms/step - loss: 2.6052e-04 - mae: 0.0166 - val_loss: 6.3941e-04 - val_mae: 0.0301\n",
            "Epoch 109/500\n",
            "43/43 [==============================] - 1s 18ms/step - loss: 1.0048e-04 - mae: 0.0102 - val_loss: 0.0044 - val_mae: 0.0907\n",
            "Epoch 110/500\n",
            "43/43 [==============================] - 1s 20ms/step - loss: 7.5640e-05 - mae: 0.0094 - val_loss: 6.5307e-04 - val_mae: 0.0304\n",
            "Epoch 111/500\n",
            "43/43 [==============================] - 1s 19ms/step - loss: 1.0837e-04 - mae: 0.0099 - val_loss: 0.0049 - val_mae: 0.0962\n",
            "Epoch 112/500\n",
            "43/43 [==============================] - 1s 18ms/step - loss: 8.0640e-05 - mae: 0.0096 - val_loss: 0.0016 - val_mae: 0.0535\n",
            "Epoch 113/500\n",
            "43/43 [==============================] - 1s 17ms/step - loss: 1.4767e-04 - mae: 0.0111 - val_loss: 0.0172 - val_mae: 0.1824\n",
            "Epoch 114/500\n",
            "43/43 [==============================] - 1s 17ms/step - loss: 1.5854e-04 - mae: 0.0135 - val_loss: 0.0055 - val_mae: 0.1021\n",
            "Epoch 115/500\n",
            "43/43 [==============================] - 1s 19ms/step - loss: 9.7914e-05 - mae: 0.0106 - val_loss: 0.0028 - val_mae: 0.0715\n",
            "Epoch 116/500\n",
            "43/43 [==============================] - 1s 18ms/step - loss: 7.2016e-05 - mae: 0.0090 - val_loss: 0.0019 - val_mae: 0.0592\n",
            "Epoch 117/500\n",
            "43/43 [==============================] - 1s 17ms/step - loss: 5.9175e-05 - mae: 0.0082 - val_loss: 5.7452e-04 - val_mae: 0.0281\n",
            "Epoch 118/500\n",
            "43/43 [==============================] - 1s 17ms/step - loss: 3.7664e-04 - mae: 0.0140 - val_loss: 0.0327 - val_mae: 0.2525\n",
            "Epoch 119/500\n",
            "43/43 [==============================] - 1s 17ms/step - loss: 3.5273e-04 - mae: 0.0187 - val_loss: 0.0069 - val_mae: 0.1149\n",
            "Epoch 120/500\n",
            "43/43 [==============================] - 1s 18ms/step - loss: 1.1029e-04 - mae: 0.0114 - val_loss: 0.0011 - val_mae: 0.0424\n",
            "Epoch 121/500\n",
            "43/43 [==============================] - 1s 18ms/step - loss: 6.5445e-05 - mae: 0.0085 - val_loss: 0.0012 - val_mae: 0.0437\n",
            "Epoch 122/500\n",
            "43/43 [==============================] - 1s 18ms/step - loss: 5.4603e-05 - mae: 0.0078 - val_loss: 2.3933e-04 - val_mae: 0.0177\n",
            "Epoch 123/500\n",
            "43/43 [==============================] - 1s 17ms/step - loss: 8.5345e-05 - mae: 0.0091 - val_loss: 0.0031 - val_mae: 0.0761\n",
            "Epoch 124/500\n",
            "43/43 [==============================] - 1s 18ms/step - loss: 1.0660e-04 - mae: 0.0104 - val_loss: 0.0044 - val_mae: 0.0912\n",
            "Epoch 125/500\n",
            "43/43 [==============================] - 1s 16ms/step - loss: 8.8041e-05 - mae: 0.0099 - val_loss: 0.0026 - val_mae: 0.0693\n",
            "Epoch 126/500\n",
            "43/43 [==============================] - 1s 18ms/step - loss: 2.6590e-04 - mae: 0.0141 - val_loss: 0.0093 - val_mae: 0.1337\n"
          ],
          "name": "stdout"
        }
      ]
    },
    {
      "cell_type": "code",
      "metadata": {
        "id": "NfVoTx5sjKql",
        "colab_type": "code",
        "colab": {}
      },
      "source": [
        "model = keras.models.load_model(\"my_checkpoint\")"
      ],
      "execution_count": null,
      "outputs": []
    },
    {
      "cell_type": "code",
      "metadata": {
        "colab_type": "code",
        "id": "RqQbX6DZ8OIu",
        "colab": {}
      },
      "source": [
        "dense_forecast = model_forecast(model, spy_normalized_to_traindata.flatten()[x_test.index.min() - window_size:-1], window_size)[:, 0]"
      ],
      "execution_count": null,
      "outputs": []
    },
    {
      "cell_type": "code",
      "metadata": {
        "id": "9EZLjPLgyqci",
        "colab_type": "code",
        "colab": {
          "base_uri": "https://localhost:8080/",
          "height": 33
        },
        "outputId": "b54335be-54b1-46e4-ee80-90a080494c4f"
      },
      "source": [
        "spy_normalized_to_traindata.flatten().shape"
      ],
      "execution_count": null,
      "outputs": [
        {
          "output_type": "execute_result",
          "data": {
            "text/plain": [
              "(6950,)"
            ]
          },
          "metadata": {
            "tags": []
          },
          "execution_count": 39
        }
      ]
    },
    {
      "cell_type": "code",
      "metadata": {
        "id": "RUhD-RDML_WY",
        "colab_type": "code",
        "colab": {
          "base_uri": "https://localhost:8080/",
          "height": 33
        },
        "outputId": "b17fbc08-6c62-432f-f7cf-7dba0a0ae548"
      },
      "source": [
        "# Undo the scaling\n",
        "dense_forecast = x_train_scaler.inverse_transform(dense_forecast.reshape(-1,1)).flatten()\n",
        "dense_forecast.shape"
      ],
      "execution_count": null,
      "outputs": [
        {
          "output_type": "execute_result",
          "data": {
            "text/plain": [
              "(422,)"
            ]
          },
          "metadata": {
            "tags": []
          },
          "execution_count": 40
        }
      ]
    },
    {
      "cell_type": "code",
      "metadata": {
        "colab_type": "code",
        "id": "98zwAuIo8OIv",
        "colab": {
          "base_uri": "https://localhost:8080/",
          "height": 410
        },
        "outputId": "cbe3d2d6-7e7c-4074-9a2b-2d7bae6adbf9"
      },
      "source": [
        "# set style of charts\n",
        "sns.set(style=\"darkgrid\")\n",
        "plt.rcParams['figure.figsize'] = [10, 10]\n",
        "\n",
        "plt.figure(figsize=(10, 6))\n",
        "plt.title('Fully Dense Forecast')\n",
        "plt.ylabel('Dollars $')\n",
        "plt.xlabel('Timestep in Days')\n",
        "plot_series(x_test.index, x_test)\n",
        "plot_series(x_test.index, dense_forecast)"
      ],
      "execution_count": null,
      "outputs": [
        {
          "output_type": "display_data",
          "data": {
            "image/png": "[encoded data removed]",
            "text/plain": [
              "<Figure size 720x432 with 1 Axes>"
            ]
          },
          "metadata": {
            "tags": []
          }
        }
      ]
    },
    {
      "cell_type": "markdown",
      "metadata": {
        "id": "NO6jYts6g6wV",
        "colab_type": "text"
      },
      "source": [
        "#### Dense Model Result"
      ]
    },
    {
      "cell_type": "code",
      "metadata": {
        "colab_type": "code",
        "id": "EgkELN-58OIw",
        "colab": {
          "base_uri": "https://localhost:8080/",
          "height": 33
        },
        "outputId": "8289bbbc-f700-4f27-bab3-2f81814be099"
      },
      "source": [
        "keras.metrics.mean_absolute_error(x_test, dense_forecast).numpy()"
      ],
      "execution_count": null,
      "outputs": [
        {
          "output_type": "execute_result",
          "data": {
            "text/plain": [
              "5.4198823"
            ]
          },
          "metadata": {
            "tags": []
          },
          "execution_count": 42
        }
      ]
    },
    {
      "cell_type": "code",
      "metadata": {
        "id": "S9fM69__PvMi",
        "colab_type": "code",
        "colab": {}
      },
      "source": [
        ""
      ],
      "execution_count": null,
      "outputs": []
    }
  ]
}