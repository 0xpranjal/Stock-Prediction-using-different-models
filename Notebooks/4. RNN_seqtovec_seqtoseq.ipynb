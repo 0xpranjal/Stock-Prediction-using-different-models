{
 "cells": [
  {
   "cell_type": "markdown",
   "metadata": {
    "colab_type": "text",
    "id": "w1kHW6x-_b4d"
   },
   "source": [
    "# What is a Recurrent Neural Network?\n",
    "\n",
    "A recurrent layer is just a memory cell that computes. In diagrams, you may see it represented as having many cells, but it is just one cell used to calculate an output over a set amount of time steps. The cell calculates Y_0 at X_0 then moves on to calculating Y_1 at X_1 and so on. However, from X_0 to X_1 the memory cell produces a state vector. This state factor is used in the next time step as an additional input factor. This state factor is why it is called a recurrent neural network. Just as x +=1 is a recurrent function to add 1 every time to X, every time step receives an state vector from the last time step.\n",
    "\n",
    "This architecture enables you to use any sequence length as long as the parameters remain constant. An RNN can be though of as word context of reading a sentence. As you read the a sentence you may only be focusing on one word, however, if you encounter a word that is a homphone such as lead you will understand the context. You can immediate notice if lead is the verb for \"guiding\" or the soft metal which is a noun."
   ]
  },
  {
   "cell_type": "markdown",
   "metadata": {
    "colab_type": "text",
    "id": "vidayERjaO5q"
   },
   "source": [
    "## Setup"
   ]
  },
  {
   "cell_type": "code",
   "execution_count": 1,
   "metadata": {
    "colab": {
     "base_uri": "https://localhost:8080/",
     "height": 50
    },
    "colab_type": "code",
    "id": "gqWabzlJ63nL",
    "outputId": "579a6636-417a-4bee-fc59-228021c05566"
   },
   "outputs": [
    {
     "name": "stderr",
     "output_type": "stream",
     "text": [
      "/usr/local/lib/python3.6/dist-packages/statsmodels/tools/_testing.py:19: FutureWarning: pandas.util.testing is deprecated. Use the functions in the public API at pandas.testing instead.\n",
      "  import pandas.util.testing as tm\n"
     ]
    }
   ],
   "source": [
    "import numpy as np\n",
    "import pandas as pd\n",
    "import matplotlib.pyplot as plt\n",
    "import tensorflow as tf\n",
    "import seaborn as sns\n",
    "\n",
    "from sklearn.preprocessing import MinMaxScaler\n",
    "\n",
    "keras = tf.keras\n",
    "\n",
    "# set style of charts\n",
    "sns.set(style=\"darkgrid\")\n",
    "plt.rcParams['figure.figsize'] = [10, 10]"
   ]
  },
  {
   "cell_type": "code",
   "execution_count": 2,
   "metadata": {
    "colab": {},
    "colab_type": "code",
    "id": "cg1hfKCPldZG"
   },
   "outputs": [],
   "source": [
    "def plot_series(time, series, format=\"-\", start=0, end=None, label=None):\n",
    "    plt.plot(time[start:end], series[start:end], format, label=label)\n",
    "    plt.xlabel(\"Time\")\n",
    "    plt.ylabel(\"Value\")\n",
    "    if label:\n",
    "        plt.legend(fontsize=14)\n",
    "    plt.grid(True)\n",
    "  \n",
    "  \n",
    "def window_dataset(series, window_size, batch_size=128,\n",
    "                   shuffle_buffer=1000):\n",
    "    dataset = tf.data.Dataset.from_tensor_slices(series)\n",
    "    dataset = dataset.window(window_size + 1, shift=1, drop_remainder=True)\n",
    "    dataset = dataset.flat_map(lambda window: window.batch(window_size + 1))\n",
    "    dataset = dataset.shuffle(shuffle_buffer)\n",
    "    dataset = dataset.map(lambda window: (window[:-1], window[-1]))\n",
    "    dataset = dataset.batch(batch_size).prefetch(1)\n",
    "    return dataset\n",
    "  \n",
    "def model_forecast(model, series, window_size):\n",
    "    ds = tf.data.Dataset.from_tensor_slices(series)\n",
    "    ds = ds.window(window_size, shift=1, drop_remainder=True)\n",
    "    ds = ds.flat_map(lambda w: w.batch(window_size))\n",
    "    ds = ds.batch(32).prefetch(1)\n",
    "    forecast = model.predict(ds)\n",
    "    return forecast"
   ]
  },
  {
   "cell_type": "code",
   "execution_count": 3,
   "metadata": {
    "colab": {},
    "colab_type": "code",
    "id": "iL2DDjV3lel6"
   },
   "outputs": [],
   "source": [
    "# Read in data\n",
    "spy = pd.read_csv('SPY.csv')\n",
    "\n",
    "# Convert series into datetime type\n",
    "spy['Date'] = pd.to_datetime(spy['Date'])\n",
    "\n",
    "# Save target series\n",
    "series = spy['Close']\n",
    "\n",
    "# Create train data set\n",
    "train_split_date = '2014-12-31'\n",
    "train_split_index = np.where(spy.Date == train_split_date)[0][0]\n",
    "x_train = spy.loc[spy['Date'] <= train_split_date]['Close']\n",
    "\n",
    "# Create test data set\n",
    "test_split_date = '2019-01-02'\n",
    "test_split_index = np.where(spy.Date == test_split_date)[0][0]\n",
    "x_test = spy.loc[spy['Date'] >= test_split_date]['Close']\n",
    "\n",
    "# Create valid data set\n",
    "valid_split_index = (train_split_index.max(),test_split_index.min())\n",
    "x_valid = spy.loc[(spy['Date'] < test_split_date) & (spy['Date'] > train_split_date)]['Close']"
   ]
  },
  {
   "cell_type": "code",
   "execution_count": 4,
   "metadata": {
    "colab": {
     "base_uri": "https://localhost:8080/",
     "height": 285
    },
    "colab_type": "code",
    "id": "Zmp1JXKxk9Vb",
    "outputId": "6130497e-14f5-4804-bc5b-1fc1e8fb55df"
   },
   "outputs": [
    {
     "name": "stdout",
     "output_type": "stream",
     "text": [
      "5521 5522 6527 6528 6949\n"
     ]
    },
    {
     "data": {
      "image/png": "[encoded data removed]",
      "text/plain": [
       "<Figure size 432x288 with 1 Axes>"
      ]
     },
     "metadata": {
      "needs_background": "light",
      "tags": []
     },
     "output_type": "display_data"
    }
   ],
   "source": [
    "# Plot all lines on one chart to see where one segment starts and another ends\n",
    "plt.plot(x_train, label = 'Train')\n",
    "plt.plot(x_valid, label = 'Validate')\n",
    "plt.plot(x_test, label = 'Test')\n",
    "plt.legend()\n",
    "print(x_train.index.max(),x_valid.index.min(),x_valid.index.max(),x_test.index.min(),x_test.index.max())"
   ]
  },
  {
   "cell_type": "code",
   "execution_count": 5,
   "metadata": {
    "colab": {},
    "colab_type": "code",
    "id": "D-8aiQRzmG7O"
   },
   "outputs": [],
   "source": [
    "# Reshape values\n",
    "x_train_values = x_train.values.reshape(-1, 1)\n",
    "x_valid_values = x_valid.values.reshape(-1, 1)\n",
    "x_test_values = x_test.values.reshape(-1, 1)\n",
    "\n",
    "#  Create Scaler Object\n",
    "x_train_scaler = MinMaxScaler(feature_range=(0, 1))\n",
    "\n",
    "# Fit x_train values\n",
    "normalized_x_train = x_train_scaler.fit_transform(x_train_values)\n",
    "\n",
    "# Fit x_valid values\n",
    "normalized_x_valid = x_train_scaler.transform(x_valid_values)\n",
    "\n",
    "# Fit x_test values\n",
    "normalized_x_test = x_train_scaler.transform(x_test_values)\n",
    "\n",
    "# All values normalized to training data\n",
    "spy_normalized_to_traindata = x_train_scaler.transform(series.values.reshape(-1, 1))\n",
    "\n",
    "# Example of how to iverse\n",
    "# inversed = scaler.inverse_transform(normalized_x_train).flatten()"
   ]
  },
  {
   "cell_type": "markdown",
   "metadata": {
    "colab_type": "text",
    "id": "vDs_w3kZ8OIw"
   },
   "source": [
    "## Simple RNN Forecasting"
   ]
  },
  {
   "cell_type": "markdown",
   "metadata": {
    "colab_type": "text",
    "id": "-rKEOyuFHN0N"
   },
   "source": [
    "The input for the memory cell at each time step is the batch size by our feature dimensionality (1). The output is thiese same two dimensions times the number of units in the memory cell. Our memory cell is comprised of 100 units in both layers. So the output of our RNN layer is batch(128), window_size(30), and number of units (100) which is obviously 3 dimensional. The output Y_0 is the state vector which is used when calculating Y_1 at the next time step. \n",
    "\n",
    "In this instance we are doing sequence to vector which means we ignore all outputs except for the one at the very last time step. This is the default behavior of all reccurent layers in Keras unless return_sequences = True is selected. This sequence to vector takes in a batch (128) of time windows and outputs the next time step of window of values. This one at a time output proves to be very slow when training.\n",
    "\n",
    "For a faster training convergence, we use a sequence to sequence RNN. Compared to the sequence to vector which adjusted the gradient of the loss from the very end of the model all the at layer 2 unit 100, the sequence to sequence RNN calculates the loss at each time step and backpropagates the loss from there. This provides much more gradients and speeds up training. It is important to note we still ignore all outputs besides the last one. We just calculate all intermediate values to update the gradient more quickly."
   ]
  },
  {
   "cell_type": "code",
   "execution_count": 1,
   "metadata": {
    "colab": {
     "base_uri": "https://localhost:8080/",
     "height": 33
    },
    "colab_type": "code",
    "id": "vbmXjeXSZr96",
    "outputId": "4f39e4e3-1cd6-4bc2-d3f0-19be3cb632b9"
   },
   "outputs": [
    {
     "data": {
      "text/plain": [
       "3"
      ]
     },
     "execution_count": 1,
     "metadata": {
      "tags": []
     },
     "output_type": "execute_result"
    }
   ],
   "source": []
  },
  {
   "cell_type": "markdown",
   "metadata": {
    "colab_type": "text",
    "id": "f9L64bJOiZhK"
   },
   "source": []
  },
  {
   "cell_type": "code",
   "execution_count": null,
   "metadata": {
    "colab": {},
    "colab_type": "code",
    "id": "YU4xRp9G8OIx"
   },
   "outputs": [],
   "source": [
    "# Clear any back end stored data due to multiple iterations\n",
    "keras.backend.clear_session()\n",
    "tf.random.set_seed(42)\n",
    "np.random.seed(42)\n",
    "\n",
    "# Set window size\n",
    "window_size = 30\n",
    "\n",
    "# Create 2D batches of batch size and features (1 feature = 1 time step in window)\n",
    "train_set = window_dataset(normalized_x_train, window_size, batch_size=128)\n",
    "\n",
    "# Establish Model\n",
    "model = keras.models.Sequential([\n",
    "  keras.layers.Lambda(lambda x: tf.expand_dims(x, axis=-1), # Add a 3rd dimension (feature dimensionality which in this case in univariate)\n",
    "                      input_shape=[None]), # 1st dimension is batch size, input shape = None allows windows of any size to be used\n",
    "  keras.layers.SimpleRNN(100, return_sequences=True), # takes in sequence (batch size, time, dimensionality per time step (univariate))\n",
    "  keras.layers.SimpleRNN(100), # produces a single vector\n",
    "  keras.layers.Dense(1), # produces 1 output \n",
    "])\n",
    "\n",
    "# create standard learning rate scheduler\n",
    "lr_schedule = keras.callbacks.LearningRateScheduler(\n",
    "    lambda epoch: 1e-5 * 10**(epoch / 20))\n",
    "\n",
    "# establish optimizer\n",
    "optimizer = keras.optimizers.Nadam(lr=1e-7)\n",
    "\n",
    "# Put model all together\n",
    "model.compile(loss=keras.losses.Huber(),\n",
    "              optimizer=optimizer,\n",
    "              metrics=[\"mae\"])\n",
    "history = model.fit(train_set, epochs=100, callbacks=[lr_schedule])"
   ]
  },
  {
   "cell_type": "code",
   "execution_count": null,
   "metadata": {
    "colab": {},
    "colab_type": "code",
    "id": "YJTlFAXF8OIy"
   },
   "outputs": [],
   "source": [
    "plt.semilogx(history.history[\"lr\"], history.history[\"loss\"])\n",
    "plt.axis([1e-5, 1, 0, .1])"
   ]
  },
  {
   "cell_type": "code",
   "execution_count": null,
   "metadata": {
    "colab": {},
    "colab_type": "code",
    "id": "T3yNjxWE8OIz"
   },
   "outputs": [],
   "source": [
    "keras.backend.clear_session()\n",
    "tf.random.set_seed(42)\n",
    "np.random.seed(42)\n",
    "\n",
    "window_size = 30\n",
    "train_set = window_dataset(normalized_x_train, window_size, batch_size=128)\n",
    "valid_set = window_dataset(normalized_x_valid, window_size, batch_size=128)\n",
    "\n",
    "model = keras.models.Sequential([\n",
    "  keras.layers.Lambda(lambda x: tf.expand_dims(x, axis=-1),\n",
    "                      input_shape=[None]),\n",
    "  keras.layers.SimpleRNN(100, return_sequences=True),\n",
    "  keras.layers.SimpleRNN(100),\n",
    "  keras.layers.Dense(1),\n",
    "])\n",
    "optimizer = keras.optimizers.Nadam(lr=5e-5)\n",
    "\n",
    "model.compile(loss=keras.losses.Huber(),\n",
    "              optimizer=optimizer,\n",
    "              metrics=[\"mae\"])\n",
    "\n",
    "# Set early stopping to prevent over fitting\n",
    "early_stopping = keras.callbacks.EarlyStopping(patience=50)\n",
    "\n",
    "# save best model to load later\n",
    "model_checkpoint = keras.callbacks.ModelCheckpoint(\n",
    "    \"my_checkpoint\", save_best_only=True)\n",
    "\n",
    "# compile model\n",
    "model.fit(train_set, epochs=500,\n",
    "          validation_data=valid_set,\n",
    "          callbacks=[early_stopping, model_checkpoint])"
   ]
  },
  {
   "cell_type": "code",
   "execution_count": null,
   "metadata": {
    "colab": {},
    "colab_type": "code",
    "id": "4KuPtKFe8OI0"
   },
   "outputs": [],
   "source": [
    "model = keras.models.load_model(\"my_checkpoint\")"
   ]
  },
  {
   "cell_type": "code",
   "execution_count": null,
   "metadata": {
    "colab": {},
    "colab_type": "code",
    "id": "cxq09qOg8OI1"
   },
   "outputs": [],
   "source": [
    "rnn_forecast = model_forecast(\n",
    "    model,\n",
    "    spy_normalized_to_traindata[x_test.index.min() - window_size:-1],\n",
    "    window_size)[:, 0]"
   ]
  },
  {
   "cell_type": "code",
   "execution_count": null,
   "metadata": {
    "colab": {
     "base_uri": "https://localhost:8080/",
     "height": 33
    },
    "colab_type": "code",
    "id": "p-ddUraXnXJo",
    "outputId": "110e2be8-b894-4b8e-ea29-bedde6f1a657"
   },
   "outputs": [
    {
     "data": {
      "text/plain": [
       "(422,)"
      ]
     },
     "execution_count": 12,
     "metadata": {
      "tags": []
     },
     "output_type": "execute_result"
    }
   ],
   "source": [
    "rnn_unscaled_forecast = x_train_scaler.inverse_transform(rnn_forecast.reshape(-1,1)).flatten()\n",
    "rnn_unscaled_forecast.shape"
   ]
  },
  {
   "cell_type": "code",
   "execution_count": null,
   "metadata": {
    "colab": {},
    "colab_type": "code",
    "id": "PkC_JssS8OI2"
   },
   "outputs": [],
   "source": [
    "plt.figure(figsize=(10,6))\n",
    "\n",
    "plt.title('SeqtoVec RNN Forecast')\n",
    "plt.ylabel('Dollars $')\n",
    "plt.xlabel('Timestep in Days')\n",
    "plot_series(x_test.index, x_test)\n",
    "plot_series(x_test.index, rnn_unscaled_forecast)"
   ]
  },
  {
   "cell_type": "code",
   "execution_count": null,
   "metadata": {
    "colab": {},
    "colab_type": "code",
    "id": "1mwfgEK08OI3"
   },
   "outputs": [],
   "source": [
    "keras.metrics.mean_absolute_error(x_test, rnn_unscaled_forecast).numpy()"
   ]
  },
  {
   "cell_type": "markdown",
   "metadata": {
    "colab_type": "text",
    "id": "KNG7s8jt8OI4"
   },
   "source": [
    "## Sequence-to-Sequence Forecasting"
   ]
  },
  {
   "cell_type": "code",
   "execution_count": null,
   "metadata": {
    "colab": {},
    "colab_type": "code",
    "id": "bsKGxfiE8OI4"
   },
   "outputs": [],
   "source": [
    "def seq2seq_window_dataset(series, window_size, batch_size=128,\n",
    "                           shuffle_buffer=1000):\n",
    "    series = tf.expand_dims(series, axis=-1)\n",
    "    ds = tf.data.Dataset.from_tensor_slices(series)\n",
    "    ds = ds.window(window_size + 1, shift=1, drop_remainder=True)\n",
    "    ds = ds.flat_map(lambda w: w.batch(window_size + 1))\n",
    "    ds = ds.shuffle(shuffle_buffer)\n",
    "    ds = ds.map(lambda w: (w[:-1], w[1:]))\n",
    "    return ds.batch(batch_size).prefetch(1)"
   ]
  },
  {
   "cell_type": "markdown",
   "metadata": {
    "colab_type": "text",
    "id": "EmbEO5kkcUnS"
   },
   "source": [
    "The cell below illustrates exactly what the function above is doing. the cell above creates batches and laebls for those batches. The point Y[0] is the label for X[0] to try to calculate."
   ]
  },
  {
   "cell_type": "code",
   "execution_count": 2,
   "metadata": {
    "colab": {
     "base_uri": "https://localhost:8080/",
     "height": 212
    },
    "colab_type": "code",
    "id": "5Nk2C7WP8OI5",
    "outputId": "bd1382ca-6f4a-4dda-8378-72c8e3f711d2"
   },
   "outputs": [
    {
     "ename": "NameError",
     "evalue": "ignored",
     "output_type": "error",
     "traceback": [
      "\u001b[0;31m---------------------------------------------------------------------------\u001b[0m",
      "\u001b[0;31mNameError\u001b[0m                                 Traceback (most recent call last)",
      "\u001b[0;32m<ipython-input-2-bf466f274a9a>\u001b[0m in \u001b[0;36m<module>\u001b[0;34m()\u001b[0m\n\u001b[0;32m----> 1\u001b[0;31m for X_batch, Y_batch in seq2seq_window_dataset(tf.range(10), 3,\n\u001b[0m\u001b[1;32m      2\u001b[0m                                                batch_size=1):\n\u001b[1;32m      3\u001b[0m     \u001b[0mprint\u001b[0m\u001b[0;34m(\u001b[0m\u001b[0;34m\"X:\"\u001b[0m\u001b[0;34m,\u001b[0m \u001b[0mX_batch\u001b[0m\u001b[0;34m.\u001b[0m\u001b[0mnumpy\u001b[0m\u001b[0;34m(\u001b[0m\u001b[0;34m)\u001b[0m\u001b[0;34m)\u001b[0m\u001b[0;34m\u001b[0m\u001b[0;34m\u001b[0m\u001b[0m\n\u001b[1;32m      4\u001b[0m     \u001b[0mprint\u001b[0m\u001b[0;34m(\u001b[0m\u001b[0;34m\"Y:\"\u001b[0m\u001b[0;34m,\u001b[0m \u001b[0mY_batch\u001b[0m\u001b[0;34m.\u001b[0m\u001b[0mnumpy\u001b[0m\u001b[0;34m(\u001b[0m\u001b[0;34m)\u001b[0m\u001b[0;34m)\u001b[0m\u001b[0;34m\u001b[0m\u001b[0;34m\u001b[0m\u001b[0m\n",
      "\u001b[0;31mNameError\u001b[0m: name 'seq2seq_window_dataset' is not defined"
     ]
    }
   ],
   "source": [
    "# Show example of what seq-seq looks like\n",
    "for X_batch, Y_batch in seq2seq_window_dataset(tf.range(10), 3, batch_size=1):\n",
    "    print(\"X:\", X_batch.numpy())\n",
    "    print(\"Y:\", Y_batch.numpy())"
   ]
  },
  {
   "cell_type": "code",
   "execution_count": null,
   "metadata": {
    "colab": {},
    "colab_type": "code",
    "id": "4JSc-Btk8OI7"
   },
   "outputs": [],
   "source": [
    "keras.backend.clear_session()\n",
    "tf.random.set_seed(42)\n",
    "np.random.seed(42)\n",
    "\n",
    "window_size = 30\n",
    "\n",
    "# in the seq2seq_window we removed the need for the lambda layer to expand dimensions as it is already 3D \n",
    "train_set = seq2seq_window_dataset(normalized_x_train.flatten(), window_size,\n",
    "                                   batch_size=128)\n",
    "\n",
    "# Create model\n",
    "model = keras.models.Sequential([\n",
    "  keras.layers.SimpleRNN(100, return_sequences=True,\n",
    "                         input_shape=[None, 1]),\n",
    "  keras.layers.SimpleRNN(100, return_sequences=True),\n",
    "  keras.layers.Dense(1), # now dense layer is applied at every time step\n",
    "])\n",
    "\n",
    "lr_schedule = keras.callbacks.LearningRateScheduler(\n",
    "    lambda epoch: 1e-5 * 10**(epoch / 30))\n",
    "\n",
    "# choose optimizer\n",
    "optimizer = keras.optimizers.Nadam(lr=1e-5)\n",
    "\n",
    "# compile model\n",
    "model.compile(loss=keras.losses.Huber(),\n",
    "              optimizer=optimizer,\n",
    "              metrics=[\"mae\"])\n",
    "\n",
    "# create history callback from fit\n",
    "history = model.fit(train_set, epochs=100, callbacks=[lr_schedule])"
   ]
  },
  {
   "cell_type": "code",
   "execution_count": null,
   "metadata": {
    "colab": {},
    "colab_type": "code",
    "id": "YGNsWceq8OI8"
   },
   "outputs": [],
   "source": [
    "plt.semilogx(history.history[\"lr\"], history.history[\"loss\"])\n",
    "plt.axis([1e-5, 1, 0, .1])"
   ]
  },
  {
   "cell_type": "code",
   "execution_count": null,
   "metadata": {
    "colab": {},
    "colab_type": "code",
    "id": "G9lDnb0X8OI9"
   },
   "outputs": [],
   "source": [
    "keras.backend.clear_session()\n",
    "tf.random.set_seed(42)\n",
    "np.random.seed(42)\n",
    "\n",
    "# set window size and create input batch sequences\n",
    "window_size = 20\n",
    "train_set = seq2seq_window_dataset(normalized_x_train.flatten(), window_size,\n",
    "                                   batch_size=128)\n",
    "valid_set = seq2seq_window_dataset(normalized_x_valid.flatten(), window_size,\n",
    "                                   batch_size=128)\n",
    "\n",
    "# Create model for seq:seq RNN\n",
    "model = keras.models.Sequential([\n",
    "  keras.layers.SimpleRNN(100, return_sequences=True,\n",
    "                         input_shape=[None, 1]),\n",
    "  keras.layers.SimpleRNN(100, return_sequences=True),\n",
    "  keras.layers.Dense(1),\n",
    "])\n",
    "\n",
    "# choose optimizer and LR\n",
    "optimizer = keras.optimizers.Nadam(lr=1e-3)\n",
    "\n",
    "# set model params\n",
    "model.compile(loss=keras.losses.Huber(),\n",
    "              optimizer=optimizer,\n",
    "              metrics=[\"mae\"])\n",
    "\n",
    "# set early stopping\n",
    "early_stopping = keras.callbacks.EarlyStopping(patience=20)\n",
    "\n",
    "# set model checkpoint to save best model\n",
    "model_checkpoint = keras.callbacks.ModelCheckpoint(\n",
    "    \"my_checkpoint\", save_best_only=True)\n",
    "\n",
    "# fit model\n",
    "model.fit(train_set, epochs=500,\n",
    "          validation_data=valid_set,\n",
    "          callbacks=[early_stopping, model_checkpoint])"
   ]
  },
  {
   "cell_type": "code",
   "execution_count": null,
   "metadata": {
    "colab": {},
    "colab_type": "code",
    "id": "iGlOWOtPz3fs"
   },
   "outputs": [],
   "source": [
    "# recall best model\n",
    "model = keras.models.load_model(\"my_checkpoint\")"
   ]
  },
  {
   "cell_type": "code",
   "execution_count": null,
   "metadata": {
    "colab": {},
    "colab_type": "code",
    "id": "4mglBRex8OI_"
   },
   "outputs": [],
   "source": [
    "# create forecast and clip to only show test values\n",
    "rnn_forecast = model_forecast(model, spy_normalized_to_traindata.flatten()[..., np.newaxis], window_size)\n",
    "rnn_forecast = rnn_forecast[x_test.index.min() - window_size:-1, -1, 0]"
   ]
  },
  {
   "cell_type": "code",
   "execution_count": null,
   "metadata": {
    "colab": {
     "base_uri": "https://localhost:8080/",
     "height": 33
    },
    "colab_type": "code",
    "id": "W3QO5IfmxmSD",
    "outputId": "b40ee48f-2c98-45f3-c4e6-791b8af628a3"
   },
   "outputs": [
    {
     "data": {
      "text/plain": [
       "(422,)"
      ]
     },
     "execution_count": 29,
     "metadata": {
      "tags": []
     },
     "output_type": "execute_result"
    }
   ],
   "source": [
    "# Get data back to normal scale\n",
    "rnn_unscaled_forecast = x_train_scaler.inverse_transform(rnn_forecast.reshape(-1,1)).flatten()\n",
    "rnn_unscaled_forecast.shape"
   ]
  },
  {
   "cell_type": "code",
   "execution_count": null,
   "metadata": {
    "colab": {},
    "colab_type": "code",
    "id": "Zl_FkcdI8OJA"
   },
   "outputs": [],
   "source": [
    "# Plot results\n",
    "plt.figure(figsize=(10, 6))\n",
    "plt.title('SeqtoSeq RNN')\n",
    "plt.ylabel('Dollars $')\n",
    "plt.xlabel('Timestep in Days')\n",
    "plot_series(x_test.index, x_test)\n",
    "plot_series(x_test.index, rnn_unscaled_forecast)"
   ]
  },
  {
   "cell_type": "code",
   "execution_count": null,
   "metadata": {
    "colab": {},
    "colab_type": "code",
    "id": "cznEtSVK8OJB"
   },
   "outputs": [],
   "source": [
    "keras.metrics.mean_absolute_error(x_test, rnn_unscaled_forecast).numpy()"
   ]
  },
  {
   "cell_type": "code",
   "execution_count": null,
   "metadata": {
    "colab": {},
    "colab_type": "code",
    "id": "Bnb6Ngxcx8t-"
   },
   "outputs": [],
   "source": []
  }
 ],
 "metadata": {
  "colab": {
   "collapsed_sections": [
    "vidayERjaO5q"
   ],
   "name": "RNN_seqtovec_seqtoseq.ipynb",
   "provenance": [],
   "toc_visible": true
  },
  "kernelspec": {
   "display_name": "Python 3",
   "language": "python",
   "name": "python3"
  },
  "language_info": {
   "codemirror_mode": {
    "name": "ipython",
    "version": 3
   },
   "file_extension": ".py",
   "mimetype": "text/x-python",
   "name": "python",
   "nbconvert_exporter": "python",
   "pygments_lexer": "ipython3",
   "version": "3.7.1"
  }
 },
 "nbformat": 4,
 "nbformat_minor": 1
}
