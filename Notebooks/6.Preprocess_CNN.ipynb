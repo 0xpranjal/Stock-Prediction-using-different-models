{
  "nbformat": 4,
  "nbformat_minor": 0,
  "metadata": {
    "accelerator": "GPU",
    "colab": {
      "name": "Preprocess-CNN.ipynb",
      "provenance": [],
      "collapsed_sections": [],
      "toc_visible": true
    },
    "kernelspec": {
      "display_name": "Python 3",
      "name": "python3"
    }
  },
  "cells": [
    {
      "cell_type": "markdown",
      "metadata": {
        "id": "2sN0JP9KEABp",
        "colab_type": "text"
      },
      "source": [
        "# Partial, and Full CNN predictiong S&P500 Daily Closing Price\n",
        "\n",
        "The first model we will build will have a 1D CNN layer that acts as a preproccesser of our SPY data. A 1D-Conv layer acts exactly the same as a 2-D layer used in image processing except that it only operates in one dimension. In image processing the dimensions are height and width, while in our example here we are only worried 1 dimension-- Closing price.\n",
        "\n",
        "As discussed previously, RNNs have memory stored in their hidden states. A 1D CNN layer does not have any memory as it only calculates an output based on the current filter size. A filter/kernel is just like our moving window.\n"
      ]
    },
    {
      "cell_type": "markdown",
      "metadata": {
        "colab_type": "text",
        "id": "vidayERjaO5q"
      },
      "source": [
        "## Setup"
      ]
    },
    {
      "cell_type": "code",
      "metadata": {
        "colab_type": "code",
        "id": "gqWabzlJ63nL",
        "colab": {
          "base_uri": "https://localhost:8080/",
          "height": 50
        },
        "outputId": "25e3a8f1-25e4-4f66-8d03-376eda5765d2"
      },
      "source": [
        "import numpy as np\n",
        "import pandas as pd\n",
        "import matplotlib.pyplot as plt\n",
        "import tensorflow as tf\n",
        "import seaborn as sns\n",
        "\n",
        "from sklearn.preprocessing import MinMaxScaler\n",
        "\n",
        "keras = tf.keras\n",
        "\n",
        "# set style of charts\n",
        "sns.set(style=\"darkgrid\")"
      ],
      "execution_count": 1,
      "outputs": [
        {
          "output_type": "stream",
          "text": [
            "/usr/local/lib/python3.6/dist-packages/statsmodels/tools/_testing.py:19: FutureWarning: pandas.util.testing is deprecated. Use the functions in the public API at pandas.testing instead.\n",
            "  import pandas.util.testing as tm\n"
          ],
          "name": "stderr"
        }
      ]
    },
    {
      "cell_type": "code",
      "metadata": {
        "colab_type": "code",
        "id": "cg1hfKCPldZG",
        "colab": {}
      },
      "source": [
        "def plot_series(time, series, format=\"-\", start=0, end=None, label=None):\n",
        "    plt.plot(time[start:end], series[start:end], format, label=label)\n",
        "    plt.xlabel(\"Time\")\n",
        "    plt.ylabel(\"Value\")\n",
        "    if label:\n",
        "        plt.legend(fontsize=14)\n",
        "    plt.grid(True)\n",
        "  \n",
        "\n",
        "def seq2seq_window_dataset(series, window_size, batch_size=128,\n",
        "                           shuffle_buffer=1000):\n",
        "    series = tf.expand_dims(series, axis=-1)\n",
        "    ds = tf.data.Dataset.from_tensor_slices(series)\n",
        "    ds = ds.window(window_size + 1, shift=1, drop_remainder=True)\n",
        "    ds = ds.flat_map(lambda w: w.batch(window_size + 1))\n",
        "    ds = ds.shuffle(shuffle_buffer)\n",
        "    ds = ds.map(lambda w: (w[:-1], w[1:]))\n",
        "    return ds.batch(batch_size).prefetch(1)\n",
        "  \n",
        "def sequential_window_dataset(series, window_size):\n",
        "    ds = tf.data.Dataset.from_tensor_slices(series)\n",
        "    ds = ds.window(window_size + 1, shift=window_size, drop_remainder=True)\n",
        "    ds = ds.flat_map(lambda window: window.batch(window_size + 1))\n",
        "    ds = ds.map(lambda window: (window[:-1], window[1:]))\n",
        "    return ds.batch(1).prefetch(1)\n",
        "\n",
        "\n",
        "def model_forecast(model, series, window_size):\n",
        "    ds = tf.data.Dataset.from_tensor_slices(series)\n",
        "    ds = ds.window(window_size, shift=1, drop_remainder=True)\n",
        "    ds = ds.flat_map(lambda w: w.batch(window_size))\n",
        "    ds = ds.batch(32).prefetch(1)\n",
        "    forecast = model.predict(ds)\n",
        "    return forecast"
      ],
      "execution_count": 2,
      "outputs": []
    },
    {
      "cell_type": "code",
      "metadata": {
        "colab_type": "code",
        "id": "Zmp1JXKxk9Vb",
        "colab": {}
      },
      "source": [
        "# Read in data\n",
        "spy = pd.read_csv('SPY.csv')\n",
        "\n",
        "# Convert series into datetime type\n",
        "spy['Date'] = pd.to_datetime(spy['Date'])\n",
        "\n",
        "# Save target series\n",
        "series = spy['Close']\n",
        "\n",
        "# Create train data set\n",
        "train_split_date = '2014-12-31'\n",
        "train_split_index = np.where(spy.Date == train_split_date)[0][0]\n",
        "x_train = spy.loc[spy['Date'] <= train_split_date]['Close']\n",
        "\n",
        "# Create test data set\n",
        "test_split_date = '2019-01-02'\n",
        "test_split_index = np.where(spy.Date == test_split_date)[0][0]\n",
        "x_test = spy.loc[spy['Date'] >= test_split_date]['Close']\n",
        "\n",
        "# Create valid data set\n",
        "valid_split_index = (train_split_index.max(),test_split_index.min())\n",
        "x_valid = spy.loc[(spy['Date'] < test_split_date) & (spy['Date'] > train_split_date)]['Close']"
      ],
      "execution_count": 3,
      "outputs": []
    },
    {
      "cell_type": "code",
      "metadata": {
        "id": "9Vxt6avR8GEA",
        "colab_type": "code",
        "colab": {
          "base_uri": "https://localhost:8080/",
          "height": 285
        },
        "outputId": "3ff06c66-5787-4ebf-994c-aa1c3a956a0b"
      },
      "source": [
        "# Plot all lines on one chart to see where one segment starts and another ends\n",
        "plt.plot(x_train, label = 'Train')\n",
        "plt.plot(x_valid, label = 'Validate')\n",
        "plt.plot(x_test, label = 'Test')\n",
        "plt.legend()\n",
        "print(x_train.index.max(),x_valid.index.min(),x_valid.index.max(),x_test.index.min(),x_test.index.max())"
      ],
      "execution_count": 4,
      "outputs": [
        {
          "output_type": "stream",
          "text": [
            "5521 5522 6527 6528 6949\n"
          ],
          "name": "stdout"
        },
        {
          "output_type": "display_data",
          "data": {
            "image/png": "[encoded data removed]",
            "text/plain": [
              "<Figure size 432x288 with 1 Axes>"
            ]
          },
          "metadata": {
            "tags": [],
            "needs_background": "light"
          }
        }
      ]
    },
    {
      "cell_type": "code",
      "metadata": {
        "id": "iWPZW0cX8Kgl",
        "colab_type": "code",
        "colab": {}
      },
      "source": [
        "# Reshape values\n",
        "x_train_values = x_train.values.reshape(-1, 1)\n",
        "x_valid_values = x_valid.values.reshape(-1, 1)\n",
        "x_test_values = x_test.values.reshape(-1, 1)\n",
        "\n",
        "#  Create Scaler Object\n",
        "x_train_scaler = MinMaxScaler(feature_range=(0, 1))\n",
        "\n",
        "# Fit x_train values\n",
        "normalized_x_train = x_train_scaler.fit_transform(x_train_values)\n",
        "\n",
        "# Fit x_valid values\n",
        "normalized_x_valid = x_train_scaler.transform(x_valid_values)\n",
        "\n",
        "# Fit x_test values\n",
        "normalized_x_test = x_train_scaler.transform(x_test_values)\n",
        "\n",
        "# All values normalized to training data\n",
        "spy_normalized_to_traindata = x_train_scaler.transform(series.values.reshape(-1, 1))\n",
        "\n",
        "# Example of how to iverse\n",
        "# inversed = scaler.inverse_transform(normalized_x_train).flatten()"
      ],
      "execution_count": 5,
      "outputs": []
    },
    {
      "cell_type": "markdown",
      "metadata": {
        "colab_type": "text",
        "id": "DI2GlupZ8OJW"
      },
      "source": [
        "## Preprocessing With 1D-Convolutional Layers"
      ]
    },
    {
      "cell_type": "markdown",
      "metadata": {
        "id": "nQOQAnfbQp4Z",
        "colab_type": "text"
      },
      "source": [
        "### Padding\n",
        "\n",
        "*   No padding - does not add 0's in place of missing data of input sequence. This shortens the sequence length due to the fact that the output will be missing values at the beginning and end due to window size.\n",
        "*   Same padding - Same padding adds zeros to the left and right when data is missing in the kernel so that the output size matches the input size.\n",
        "*   Causal Padding -  instead of padding 0's to the left and right it only pads 0's to the left. This is important when building a model for forecasting ensuring the model does not cheat and use future values to predict future values.\n",
        "\n",
        "\n",
        "### Stride\n",
        "Stride is how many time steps the kernel/window moves after calculating an input. For a stride of 1 and a kernel size of 3 it will first calculate an output on steps [1,2,3] and then move 1 stride to [2,3,4].\n",
        "\n",
        "\n",
        "### Filters\n",
        "The number of filters means how many different kernels are tested on each input sequence. A number too low the model will perform poorly while too many will overfit the data."
      ]
    },
    {
      "cell_type": "code",
      "metadata": {
        "colab_type": "code",
        "id": "6GFE82ci8OJW",
        "colab": {
          "base_uri": "https://localhost:8080/",
          "height": 1000
        },
        "outputId": "ea3d40c4-85cb-4f94-9f15-3d7c0fbcf13d"
      },
      "source": [
        "# Clear any backend results so that we start fresh\n",
        "keras.backend.clear_session()\n",
        "tf.random.set_seed(42)\n",
        "np.random.seed(42)\n",
        "\n",
        "# Set window size and create input sequence batches\n",
        "window_size = 20\n",
        "train_set = seq2seq_window_dataset(normalized_x_train, window_size,\n",
        "                                   batch_size=128)\n",
        "\n",
        "# Create model\n",
        "model = keras.models.Sequential([\n",
        "  keras.layers.Conv1D(filters=32, kernel_size=10,\n",
        "                      strides=1, padding=\"causal\",\n",
        "                      activation=\"relu\",\n",
        "                      input_shape=[None, 1]),\n",
        "  keras.layers.LSTM(32, return_sequences=True),\n",
        "  keras.layers.LSTM(32, return_sequences=True),\n",
        "  keras.layers.Dense(1),\n",
        "])\n",
        "\n",
        "# Set learning rate finder\n",
        "lr_schedule = keras.callbacks.LearningRateScheduler(\n",
        "    lambda epoch: 1e-5 * 10**(epoch / 20))\n",
        "\n",
        "# Choose optimizer\n",
        "optimizer = keras.optimizers.Nadam(lr=1e-5)\n",
        "\n",
        "# Compile Model\n",
        "model.compile(loss=keras.losses.Huber(),\n",
        "              optimizer=optimizer,\n",
        "              metrics=[\"mae\"])\n",
        "\n",
        "# Save history to plot learning rate\n",
        "history = model.fit(train_set, epochs=100, callbacks=[lr_schedule])"
      ],
      "execution_count": 6,
      "outputs": [
        {
          "output_type": "stream",
          "text": [
            "Epoch 1/100\n",
            "43/43 [==============================] - 1s 13ms/step - loss: 0.0921 - mae: 0.3706\n",
            "Epoch 2/100\n",
            "43/43 [==============================] - 1s 14ms/step - loss: 0.0879 - mae: 0.3609\n",
            "Epoch 3/100\n",
            "43/43 [==============================] - 1s 13ms/step - loss: 0.0839 - mae: 0.3514\n",
            "Epoch 4/100\n",
            "43/43 [==============================] - 1s 14ms/step - loss: 0.0794 - mae: 0.3411\n",
            "Epoch 5/100\n",
            "43/43 [==============================] - 1s 14ms/step - loss: 0.0745 - mae: 0.3295\n",
            "Epoch 6/100\n",
            "43/43 [==============================] - 1s 14ms/step - loss: 0.0689 - mae: 0.3160\n",
            "Epoch 7/100\n",
            "43/43 [==============================] - 1s 12ms/step - loss: 0.0626 - mae: 0.2997\n",
            "Epoch 8/100\n",
            "43/43 [==============================] - 1s 14ms/step - loss: 0.0555 - mae: 0.2798\n",
            "Epoch 9/100\n",
            "43/43 [==============================] - 1s 16ms/step - loss: 0.0475 - mae: 0.2552\n",
            "Epoch 10/100\n",
            "43/43 [==============================] - 1s 13ms/step - loss: 0.0394 - mae: 0.2254\n",
            "Epoch 11/100\n",
            "43/43 [==============================] - 1s 13ms/step - loss: 0.0325 - mae: 0.1926\n",
            "Epoch 12/100\n",
            "43/43 [==============================] - 1s 15ms/step - loss: 0.0283 - mae: 0.1720\n",
            "Epoch 13/100\n",
            "43/43 [==============================] - 1s 14ms/step - loss: 0.0265 - mae: 0.1692\n",
            "Epoch 14/100\n",
            "43/43 [==============================] - 1s 14ms/step - loss: 0.0255 - mae: 0.1673\n",
            "Epoch 15/100\n",
            "43/43 [==============================] - 1s 14ms/step - loss: 0.0244 - mae: 0.1634\n",
            "Epoch 16/100\n",
            "43/43 [==============================] - 1s 14ms/step - loss: 0.0232 - mae: 0.1582\n",
            "Epoch 17/100\n",
            "43/43 [==============================] - 1s 15ms/step - loss: 0.0218 - mae: 0.1516\n",
            "Epoch 18/100\n",
            "43/43 [==============================] - 1s 16ms/step - loss: 0.0204 - mae: 0.1448\n",
            "Epoch 19/100\n",
            "43/43 [==============================] - 1s 13ms/step - loss: 0.0187 - mae: 0.1363\n",
            "Epoch 20/100\n",
            "43/43 [==============================] - 1s 16ms/step - loss: 0.0169 - mae: 0.1258\n",
            "Epoch 21/100\n",
            "43/43 [==============================] - 1s 16ms/step - loss: 0.0151 - mae: 0.1152\n",
            "Epoch 22/100\n",
            "43/43 [==============================] - 1s 15ms/step - loss: 0.0135 - mae: 0.1064\n",
            "Epoch 23/100\n",
            "43/43 [==============================] - 1s 15ms/step - loss: 0.0121 - mae: 0.1001\n",
            "Epoch 24/100\n",
            "43/43 [==============================] - 0s 12ms/step - loss: 0.0109 - mae: 0.0929\n",
            "Epoch 25/100\n",
            "43/43 [==============================] - 1s 14ms/step - loss: 0.0097 - mae: 0.0847\n",
            "Epoch 26/100\n",
            "43/43 [==============================] - 1s 14ms/step - loss: 0.0086 - mae: 0.0759\n",
            "Epoch 27/100\n",
            "43/43 [==============================] - 1s 14ms/step - loss: 0.0076 - mae: 0.0678\n",
            "Epoch 28/100\n",
            "43/43 [==============================] - 1s 15ms/step - loss: 0.0068 - mae: 0.0622\n",
            "Epoch 29/100\n",
            "43/43 [==============================] - 1s 14ms/step - loss: 0.0062 - mae: 0.0589\n",
            "Epoch 30/100\n",
            "43/43 [==============================] - 1s 13ms/step - loss: 0.0056 - mae: 0.0557\n",
            "Epoch 31/100\n",
            "43/43 [==============================] - 1s 14ms/step - loss: 0.0051 - mae: 0.0521\n",
            "Epoch 32/100\n",
            "43/43 [==============================] - 1s 13ms/step - loss: 0.0046 - mae: 0.0495\n",
            "Epoch 33/100\n",
            "43/43 [==============================] - 1s 12ms/step - loss: 0.0041 - mae: 0.0463\n",
            "Epoch 34/100\n",
            "43/43 [==============================] - 1s 15ms/step - loss: 0.0037 - mae: 0.0449\n",
            "Epoch 35/100\n",
            "43/43 [==============================] - 1s 14ms/step - loss: 0.0031 - mae: 0.0413\n",
            "Epoch 36/100\n",
            "43/43 [==============================] - 1s 14ms/step - loss: 0.0029 - mae: 0.0408\n",
            "Epoch 37/100\n",
            "43/43 [==============================] - 1s 14ms/step - loss: 0.0023 - mae: 0.0371\n",
            "Epoch 38/100\n",
            "43/43 [==============================] - 1s 14ms/step - loss: 0.0017 - mae: 0.0311\n",
            "Epoch 39/100\n",
            "43/43 [==============================] - 1s 18ms/step - loss: 0.0015 - mae: 0.0317\n",
            "Epoch 40/100\n",
            "43/43 [==============================] - 1s 14ms/step - loss: 0.0026 - mae: 0.0428\n",
            "Epoch 41/100\n",
            "43/43 [==============================] - 1s 13ms/step - loss: 7.0207e-04 - mae: 0.0223\n",
            "Epoch 42/100\n",
            "43/43 [==============================] - 1s 13ms/step - loss: 4.3753e-04 - mae: 0.0185\n",
            "Epoch 43/100\n",
            "43/43 [==============================] - 1s 17ms/step - loss: 2.9257e-04 - mae: 0.0159\n",
            "Epoch 44/100\n",
            "43/43 [==============================] - 1s 14ms/step - loss: 0.0025 - mae: 0.0312\n",
            "Epoch 45/100\n",
            "43/43 [==============================] - 1s 16ms/step - loss: 3.2363e-04 - mae: 0.0189\n",
            "Epoch 46/100\n",
            "43/43 [==============================] - 1s 16ms/step - loss: 1.8532e-04 - mae: 0.0140\n",
            "Epoch 47/100\n",
            "43/43 [==============================] - 1s 17ms/step - loss: 4.5749e-04 - mae: 0.0177\n",
            "Epoch 48/100\n",
            "43/43 [==============================] - 1s 14ms/step - loss: 0.0021 - mae: 0.0394\n",
            "Epoch 49/100\n",
            "43/43 [==============================] - 1s 14ms/step - loss: 1.8676e-04 - mae: 0.0146\n",
            "Epoch 50/100\n",
            "43/43 [==============================] - 1s 13ms/step - loss: 4.0938e-04 - mae: 0.0149\n",
            "Epoch 51/100\n",
            "43/43 [==============================] - 1s 14ms/step - loss: 7.9299e-04 - mae: 0.0215\n",
            "Epoch 52/100\n",
            "43/43 [==============================] - 1s 16ms/step - loss: 3.8903e-04 - mae: 0.0184\n",
            "Epoch 53/100\n",
            "43/43 [==============================] - 1s 15ms/step - loss: 1.7924e-04 - mae: 0.0135\n",
            "Epoch 54/100\n",
            "43/43 [==============================] - 1s 14ms/step - loss: 0.0016 - mae: 0.0225\n",
            "Epoch 55/100\n",
            "43/43 [==============================] - 1s 13ms/step - loss: 0.0014 - mae: 0.0275\n",
            "Epoch 56/100\n",
            "43/43 [==============================] - 1s 15ms/step - loss: 9.0794e-04 - mae: 0.0239\n",
            "Epoch 57/100\n",
            "43/43 [==============================] - 1s 16ms/step - loss: 0.0011 - mae: 0.0236\n",
            "Epoch 58/100\n",
            "43/43 [==============================] - 1s 13ms/step - loss: 2.7238e-04 - mae: 0.0157\n",
            "Epoch 59/100\n",
            "43/43 [==============================] - 1s 13ms/step - loss: 0.0018 - mae: 0.0289\n",
            "Epoch 60/100\n",
            "43/43 [==============================] - 1s 13ms/step - loss: 2.4012e-04 - mae: 0.0146\n",
            "Epoch 61/100\n",
            "43/43 [==============================] - 1s 14ms/step - loss: 0.0036 - mae: 0.0373\n",
            "Epoch 62/100\n",
            "43/43 [==============================] - 1s 14ms/step - loss: 0.0024 - mae: 0.0355\n",
            "Epoch 63/100\n",
            "43/43 [==============================] - 1s 14ms/step - loss: 0.0014 - mae: 0.0275\n",
            "Epoch 64/100\n",
            "43/43 [==============================] - 1s 13ms/step - loss: 7.0109e-04 - mae: 0.0193\n",
            "Epoch 65/100\n",
            "43/43 [==============================] - 1s 14ms/step - loss: 0.0020 - mae: 0.0362\n",
            "Epoch 66/100\n",
            "43/43 [==============================] - 1s 13ms/step - loss: 0.0026 - mae: 0.0391\n",
            "Epoch 67/100\n",
            "43/43 [==============================] - 1s 13ms/step - loss: 0.0020 - mae: 0.0309\n",
            "Epoch 68/100\n",
            "43/43 [==============================] - 1s 14ms/step - loss: 0.0020 - mae: 0.0311\n",
            "Epoch 69/100\n",
            "43/43 [==============================] - 1s 15ms/step - loss: 0.0032 - mae: 0.0385\n",
            "Epoch 70/100\n",
            "43/43 [==============================] - 1s 13ms/step - loss: 0.0023 - mae: 0.0349\n",
            "Epoch 71/100\n",
            "43/43 [==============================] - 1s 14ms/step - loss: 0.0011 - mae: 0.0209\n",
            "Epoch 72/100\n",
            "43/43 [==============================] - 1s 12ms/step - loss: 0.0029 - mae: 0.0387\n",
            "Epoch 73/100\n",
            "43/43 [==============================] - 1s 13ms/step - loss: 0.0382 - mae: 0.1214\n",
            "Epoch 74/100\n",
            "43/43 [==============================] - 1s 14ms/step - loss: 0.9550 - mae: 1.3977\n",
            "Epoch 75/100\n",
            "43/43 [==============================] - 1s 13ms/step - loss: 0.0900 - mae: 0.3333\n",
            "Epoch 76/100\n",
            "43/43 [==============================] - 1s 14ms/step - loss: 0.0651 - mae: 0.2876\n",
            "Epoch 77/100\n",
            "43/43 [==============================] - 1s 15ms/step - loss: 0.1485 - mae: 0.4464\n",
            "Epoch 78/100\n",
            "43/43 [==============================] - 1s 14ms/step - loss: 0.1567 - mae: 0.4703\n",
            "Epoch 79/100\n",
            "43/43 [==============================] - 1s 13ms/step - loss: 0.1179 - mae: 0.4141\n",
            "Epoch 80/100\n",
            "43/43 [==============================] - 1s 14ms/step - loss: 0.1828 - mae: 0.5488\n",
            "Epoch 81/100\n",
            "43/43 [==============================] - 1s 13ms/step - loss: 0.2360 - mae: 0.6277\n",
            "Epoch 82/100\n",
            "43/43 [==============================] - 1s 14ms/step - loss: 0.3112 - mae: 0.7452\n",
            "Epoch 83/100\n",
            "43/43 [==============================] - 1s 12ms/step - loss: 0.4000 - mae: 0.8539\n",
            "Epoch 84/100\n",
            "43/43 [==============================] - 1s 14ms/step - loss: 0.3843 - mae: 0.8226\n",
            "Epoch 85/100\n",
            "43/43 [==============================] - 1s 13ms/step - loss: 0.7205 - mae: 1.2126\n",
            "Epoch 86/100\n",
            "43/43 [==============================] - 1s 13ms/step - loss: 0.6103 - mae: 1.0986\n",
            "Epoch 87/100\n",
            "43/43 [==============================] - 1s 12ms/step - loss: 0.6755 - mae: 1.1715\n",
            "Epoch 88/100\n",
            "43/43 [==============================] - 1s 13ms/step - loss: 0.6995 - mae: 1.1910\n",
            "Epoch 89/100\n",
            "43/43 [==============================] - 1s 14ms/step - loss: 0.7602 - mae: 1.2468\n",
            "Epoch 90/100\n",
            "43/43 [==============================] - 1s 14ms/step - loss: 1.0975 - mae: 1.5933\n",
            "Epoch 91/100\n",
            "43/43 [==============================] - 1s 13ms/step - loss: 0.9910 - mae: 1.4889\n",
            "Epoch 92/100\n",
            "43/43 [==============================] - 1s 14ms/step - loss: 0.8755 - mae: 1.3718\n",
            "Epoch 93/100\n",
            "43/43 [==============================] - 1s 13ms/step - loss: 0.9127 - mae: 1.4107\n",
            "Epoch 94/100\n",
            "43/43 [==============================] - 1s 13ms/step - loss: 0.8724 - mae: 1.3690\n",
            "Epoch 95/100\n",
            "43/43 [==============================] - 1s 13ms/step - loss: 1.2592 - mae: 1.7549\n",
            "Epoch 96/100\n",
            "43/43 [==============================] - 1s 14ms/step - loss: 0.7311 - mae: 1.2272\n",
            "Epoch 97/100\n",
            "43/43 [==============================] - 1s 14ms/step - loss: 0.7122 - mae: 1.2110\n",
            "Epoch 98/100\n",
            "43/43 [==============================] - 1s 14ms/step - loss: 0.6995 - mae: 1.1956\n",
            "Epoch 99/100\n",
            "43/43 [==============================] - 1s 15ms/step - loss: 0.7937 - mae: 1.2933\n",
            "Epoch 100/100\n",
            "43/43 [==============================] - 1s 14ms/step - loss: 0.8416 - mae: 1.3392\n"
          ],
          "name": "stdout"
        }
      ]
    },
    {
      "cell_type": "code",
      "metadata": {
        "colab_type": "code",
        "id": "Uungw0H58OJX",
        "colab": {
          "base_uri": "https://localhost:8080/",
          "height": 295
        },
        "outputId": "9346035a-20f4-4f2d-f9dd-ab1b74116b82"
      },
      "source": [
        "# Plot learning rate\n",
        "plt.semilogx(history.history[\"lr\"], history.history[\"loss\"])\n",
        "plt.axis([1e-6, 1, 0, .1])"
      ],
      "execution_count": 7,
      "outputs": [
        {
          "output_type": "execute_result",
          "data": {
            "text/plain": [
              "(1e-06, 1.0, 0.0, 0.1)"
            ]
          },
          "metadata": {
            "tags": []
          },
          "execution_count": 7
        },
        {
          "output_type": "display_data",
          "data": {
            "image/png": "[encoded data removed]",
            "text/plain": [
              "<Figure size 432x288 with 1 Axes>"
            ]
          },
          "metadata": {
            "tags": [],
            "needs_background": "light"
          }
        }
      ]
    },
    {
      "cell_type": "code",
      "metadata": {
        "colab_type": "code",
        "id": "UG7cO0yr8OJY",
        "colab": {
          "base_uri": "https://localhost:8080/",
          "height": 1000
        },
        "outputId": "e9623fb0-db9d-40e6-f356-9933d1c8093a"
      },
      "source": [
        "# Clear any backend results so that we start fresh\n",
        "\n",
        "keras.backend.clear_session()\n",
        "tf.random.set_seed(42)\n",
        "np.random.seed(42)\n",
        "\n",
        "# Set window size and create input sequence batches\n",
        "window_size = 20\n",
        "train_set = seq2seq_window_dataset(normalized_x_train, window_size,\n",
        "                                   batch_size=128)\n",
        "valid_set = seq2seq_window_dataset(normalized_x_valid, window_size,\n",
        "                                   batch_size=128)\n",
        "\n",
        "# Create model\n",
        "model = keras.models.Sequential([\n",
        "  keras.layers.Conv1D(filters=32, kernel_size=5,\n",
        "                      strides=1, padding=\"causal\",\n",
        "                      activation=\"relu\",\n",
        "                      input_shape=[None, 1]),\n",
        "  keras.layers.LSTM(32, return_sequences=True),\n",
        "  keras.layers.LSTM(32, return_sequences=True),\n",
        "  keras.layers.Dense(1),\n",
        "])\n",
        "\n",
        "# Choose optimizer\n",
        "optimizer = keras.optimizers.Nadam(lr=1e-3)\n",
        "model.compile(loss=keras.losses.Huber(),\n",
        "              optimizer=optimizer,\n",
        "              metrics=[\"mae\"])\n",
        "\n",
        "# Create recall for best model\n",
        "model_checkpoint = keras.callbacks.ModelCheckpoint(\n",
        "    \"my_checkpoint.h5\", save_best_only=True)\n",
        "\n",
        "# Set early stopping\n",
        "early_stopping = keras.callbacks.EarlyStopping(patience=50)\n",
        "\n",
        "# Fit model to data\n",
        "model.fit(train_set, epochs=500,\n",
        "          validation_data=valid_set,\n",
        "          callbacks=[early_stopping, model_checkpoint])"
      ],
      "execution_count": 8,
      "outputs": [
        {
          "output_type": "stream",
          "text": [
            "Epoch 1/500\n",
            "43/43 [==============================] - 1s 33ms/step - loss: 0.0126 - mae: 0.1116 - val_loss: 0.0735 - val_mae: 0.2485\n",
            "Epoch 2/500\n",
            "43/43 [==============================] - 1s 16ms/step - loss: 0.0066 - mae: 0.0691 - val_loss: 0.0471 - val_mae: 0.1728\n",
            "Epoch 3/500\n",
            "43/43 [==============================] - 1s 17ms/step - loss: 0.0039 - mae: 0.0452 - val_loss: 0.0357 - val_mae: 0.1189\n",
            "Epoch 4/500\n",
            "43/43 [==============================] - 1s 14ms/step - loss: 0.0030 - mae: 0.0398 - val_loss: 0.0331 - val_mae: 0.1601\n",
            "Epoch 5/500\n",
            "43/43 [==============================] - 1s 17ms/step - loss: 0.0030 - mae: 0.0428 - val_loss: 0.0223 - val_mae: 0.0959\n",
            "Epoch 6/500\n",
            "43/43 [==============================] - 1s 18ms/step - loss: 0.0018 - mae: 0.0302 - val_loss: 0.0188 - val_mae: 0.0945\n",
            "Epoch 7/500\n",
            "43/43 [==============================] - 1s 18ms/step - loss: 0.0014 - mae: 0.0251 - val_loss: 0.0146 - val_mae: 0.0820\n",
            "Epoch 8/500\n",
            "43/43 [==============================] - 1s 17ms/step - loss: 0.0011 - mae: 0.0211 - val_loss: 0.0116 - val_mae: 0.0759\n",
            "Epoch 9/500\n",
            "43/43 [==============================] - 1s 16ms/step - loss: 8.5730e-04 - mae: 0.0202 - val_loss: 0.0092 - val_mae: 0.0790\n",
            "Epoch 10/500\n",
            "43/43 [==============================] - 1s 19ms/step - loss: 6.9424e-04 - mae: 0.0197 - val_loss: 0.0083 - val_mae: 0.0928\n",
            "Epoch 11/500\n",
            "43/43 [==============================] - 1s 20ms/step - loss: 5.0770e-04 - mae: 0.0165 - val_loss: 0.0045 - val_mae: 0.0397\n",
            "Epoch 12/500\n",
            "43/43 [==============================] - 1s 17ms/step - loss: 3.8892e-04 - mae: 0.0149 - val_loss: 0.0044 - val_mae: 0.0721\n",
            "Epoch 13/500\n",
            "43/43 [==============================] - 1s 17ms/step - loss: 5.3226e-04 - mae: 0.0186 - val_loss: 0.0332 - val_mae: 0.2469\n",
            "Epoch 14/500\n",
            "43/43 [==============================] - 1s 17ms/step - loss: 2.9635e-04 - mae: 0.0164 - val_loss: 0.0038 - val_mae: 0.0748\n",
            "Epoch 15/500\n",
            "43/43 [==============================] - 1s 18ms/step - loss: 1.9545e-04 - mae: 0.0127 - val_loss: 0.0055 - val_mae: 0.0947\n",
            "Epoch 16/500\n",
            "43/43 [==============================] - 1s 19ms/step - loss: 1.2065e-04 - mae: 0.0100 - val_loss: 0.0014 - val_mae: 0.0433\n",
            "Epoch 17/500\n",
            "43/43 [==============================] - 1s 18ms/step - loss: 9.0288e-05 - mae: 0.0086 - val_loss: 7.6500e-04 - val_mae: 0.0294\n",
            "Epoch 18/500\n",
            "43/43 [==============================] - 1s 15ms/step - loss: 9.6842e-05 - mae: 0.0090 - val_loss: 0.0057 - val_mae: 0.0964\n",
            "Epoch 19/500\n",
            "43/43 [==============================] - 1s 16ms/step - loss: 9.9874e-05 - mae: 0.0099 - val_loss: 0.0089 - val_mae: 0.1229\n",
            "Epoch 20/500\n",
            "43/43 [==============================] - 1s 16ms/step - loss: 7.6657e-04 - mae: 0.0206 - val_loss: 0.0016 - val_mae: 0.0420\n",
            "Epoch 21/500\n",
            "43/43 [==============================] - 1s 17ms/step - loss: 7.9347e-05 - mae: 0.0089 - val_loss: 0.0024 - val_mae: 0.0554\n",
            "Epoch 22/500\n",
            "43/43 [==============================] - 1s 17ms/step - loss: 5.2290e-05 - mae: 0.0069 - val_loss: 0.0017 - val_mae: 0.0450\n",
            "Epoch 23/500\n",
            "43/43 [==============================] - 1s 17ms/step - loss: 4.6395e-05 - mae: 0.0065 - val_loss: 0.0015 - val_mae: 0.0429\n",
            "Epoch 24/500\n",
            "43/43 [==============================] - 1s 17ms/step - loss: 4.4899e-05 - mae: 0.0065 - val_loss: 0.0016 - val_mae: 0.0443\n",
            "Epoch 25/500\n",
            "43/43 [==============================] - 1s 15ms/step - loss: 4.2317e-05 - mae: 0.0063 - val_loss: 0.0014 - val_mae: 0.0404\n",
            "Epoch 26/500\n",
            "43/43 [==============================] - 1s 15ms/step - loss: 4.1030e-05 - mae: 0.0062 - val_loss: 0.0016 - val_mae: 0.0452\n",
            "Epoch 27/500\n",
            "43/43 [==============================] - 1s 19ms/step - loss: 3.9756e-05 - mae: 0.0061 - val_loss: 0.0015 - val_mae: 0.0434\n",
            "Epoch 28/500\n",
            "43/43 [==============================] - 1s 17ms/step - loss: 3.8117e-05 - mae: 0.0060 - val_loss: 0.0012 - val_mae: 0.0378\n",
            "Epoch 29/500\n",
            "43/43 [==============================] - 1s 15ms/step - loss: 3.8070e-05 - mae: 0.0060 - val_loss: 7.7088e-04 - val_mae: 0.0299\n",
            "Epoch 30/500\n",
            "43/43 [==============================] - 1s 16ms/step - loss: 3.7762e-05 - mae: 0.0060 - val_loss: 0.0020 - val_mae: 0.0518\n",
            "Epoch 31/500\n",
            "43/43 [==============================] - 1s 17ms/step - loss: 3.5782e-05 - mae: 0.0059 - val_loss: 9.8866e-04 - val_mae: 0.0337\n",
            "Epoch 32/500\n",
            "43/43 [==============================] - 1s 17ms/step - loss: 4.2056e-05 - mae: 0.0063 - val_loss: 0.0034 - val_mae: 0.0719\n",
            "Epoch 33/500\n",
            "43/43 [==============================] - 1s 18ms/step - loss: 3.7262e-05 - mae: 0.0062 - val_loss: 6.9099e-04 - val_mae: 0.0289\n",
            "Epoch 34/500\n",
            "43/43 [==============================] - 1s 22ms/step - loss: 5.2978e-05 - mae: 0.0068 - val_loss: 0.0082 - val_mae: 0.1176\n",
            "Epoch 35/500\n",
            "43/43 [==============================] - 1s 17ms/step - loss: 9.3577e-05 - mae: 0.0091 - val_loss: 0.0019 - val_mae: 0.0543\n",
            "Epoch 36/500\n",
            "43/43 [==============================] - 1s 17ms/step - loss: 1.8048e-04 - mae: 0.0115 - val_loss: 0.0273 - val_mae: 0.2208\n",
            "Epoch 37/500\n",
            "43/43 [==============================] - 1s 16ms/step - loss: 1.0419e-04 - mae: 0.0103 - val_loss: 0.0043 - val_mae: 0.0791\n",
            "Epoch 38/500\n",
            "43/43 [==============================] - 1s 19ms/step - loss: 4.9595e-05 - mae: 0.0067 - val_loss: 9.3054e-04 - val_mae: 0.0324\n",
            "Epoch 39/500\n",
            "43/43 [==============================] - 1s 19ms/step - loss: 6.0443e-05 - mae: 0.0073 - val_loss: 0.0088 - val_mae: 0.1210\n",
            "Epoch 40/500\n",
            "43/43 [==============================] - 1s 18ms/step - loss: 4.1570e-05 - mae: 0.0067 - val_loss: 0.0017 - val_mae: 0.0440\n",
            "Epoch 41/500\n",
            "43/43 [==============================] - 1s 17ms/step - loss: 4.0895e-05 - mae: 0.0063 - val_loss: 0.0059 - val_mae: 0.0963\n",
            "Epoch 42/500\n",
            "43/43 [==============================] - 1s 16ms/step - loss: 3.3731e-05 - mae: 0.0060 - val_loss: 0.0019 - val_mae: 0.0478\n",
            "Epoch 43/500\n",
            "43/43 [==============================] - 1s 16ms/step - loss: 4.8066e-05 - mae: 0.0065 - val_loss: 0.0012 - val_mae: 0.0418\n",
            "Epoch 44/500\n",
            "43/43 [==============================] - 1s 15ms/step - loss: 1.9006e-04 - mae: 0.0107 - val_loss: 0.0037 - val_mae: 0.0797\n",
            "Epoch 45/500\n",
            "43/43 [==============================] - 1s 17ms/step - loss: 7.2978e-05 - mae: 0.0086 - val_loss: 9.3000e-04 - val_mae: 0.0317\n",
            "Epoch 46/500\n",
            "43/43 [==============================] - 1s 16ms/step - loss: 5.9451e-05 - mae: 0.0072 - val_loss: 0.0017 - val_mae: 0.0504\n",
            "Epoch 47/500\n",
            "43/43 [==============================] - 1s 18ms/step - loss: 4.7883e-05 - mae: 0.0073 - val_loss: 5.9581e-04 - val_mae: 0.0292\n",
            "Epoch 48/500\n",
            "43/43 [==============================] - 1s 17ms/step - loss: 1.1365e-04 - mae: 0.0090 - val_loss: 0.0189 - val_mae: 0.1839\n",
            "Epoch 49/500\n",
            "43/43 [==============================] - 1s 18ms/step - loss: 1.1302e-04 - mae: 0.0106 - val_loss: 0.0092 - val_mae: 0.1244\n",
            "Epoch 50/500\n",
            "43/43 [==============================] - 1s 19ms/step - loss: 4.5740e-05 - mae: 0.0069 - val_loss: 0.0013 - val_mae: 0.0364\n",
            "Epoch 51/500\n",
            "43/43 [==============================] - 1s 19ms/step - loss: 4.1992e-05 - mae: 0.0063 - val_loss: 7.8528e-04 - val_mae: 0.0342\n",
            "Epoch 52/500\n",
            "43/43 [==============================] - 1s 19ms/step - loss: 8.4255e-05 - mae: 0.0085 - val_loss: 0.0110 - val_mae: 0.1376\n",
            "Epoch 53/500\n",
            "43/43 [==============================] - 1s 16ms/step - loss: 4.8356e-05 - mae: 0.0071 - val_loss: 0.0025 - val_mae: 0.0553\n",
            "Epoch 54/500\n",
            "43/43 [==============================] - 1s 15ms/step - loss: 2.9266e-05 - mae: 0.0054 - val_loss: 0.0038 - val_mae: 0.0738\n",
            "Epoch 55/500\n",
            "43/43 [==============================] - 1s 15ms/step - loss: 2.7332e-05 - mae: 0.0054 - val_loss: 0.0011 - val_mae: 0.0335\n",
            "Epoch 56/500\n",
            "43/43 [==============================] - 1s 17ms/step - loss: 8.5303e-05 - mae: 0.0074 - val_loss: 0.0033 - val_mae: 0.0753\n",
            "Epoch 57/500\n",
            "43/43 [==============================] - 1s 17ms/step - loss: 8.7286e-05 - mae: 0.0094 - val_loss: 0.0096 - val_mae: 0.1279\n",
            "Epoch 58/500\n",
            "43/43 [==============================] - 1s 15ms/step - loss: 5.4948e-05 - mae: 0.0076 - val_loss: 0.0055 - val_mae: 0.0923\n",
            "Epoch 59/500\n",
            "43/43 [==============================] - 1s 16ms/step - loss: 8.1564e-05 - mae: 0.0081 - val_loss: 0.0137 - val_mae: 0.1548\n",
            "Epoch 60/500\n",
            "43/43 [==============================] - 1s 16ms/step - loss: 5.3821e-05 - mae: 0.0075 - val_loss: 0.0019 - val_mae: 0.0462\n",
            "Epoch 61/500\n",
            "43/43 [==============================] - 1s 18ms/step - loss: 4.2137e-05 - mae: 0.0062 - val_loss: 0.0066 - val_mae: 0.1029\n",
            "Epoch 62/500\n",
            "43/43 [==============================] - 1s 19ms/step - loss: 4.0113e-05 - mae: 0.0065 - val_loss: 0.0066 - val_mae: 0.1026\n",
            "Epoch 63/500\n",
            "43/43 [==============================] - 1s 18ms/step - loss: 5.6766e-05 - mae: 0.0072 - val_loss: 0.0098 - val_mae: 0.1291\n",
            "Epoch 64/500\n",
            "43/43 [==============================] - 1s 15ms/step - loss: 6.4182e-05 - mae: 0.0080 - val_loss: 0.0095 - val_mae: 0.1260\n",
            "Epoch 65/500\n",
            "43/43 [==============================] - 1s 17ms/step - loss: 1.0287e-04 - mae: 0.0092 - val_loss: 0.0156 - val_mae: 0.1652\n",
            "Epoch 66/500\n",
            "43/43 [==============================] - 1s 19ms/step - loss: 1.2392e-04 - mae: 0.0106 - val_loss: 0.0015 - val_mae: 0.0480\n",
            "Epoch 67/500\n",
            "43/43 [==============================] - 1s 17ms/step - loss: 9.1070e-05 - mae: 0.0092 - val_loss: 8.8045e-04 - val_mae: 0.0365\n",
            "Epoch 68/500\n",
            "43/43 [==============================] - 1s 16ms/step - loss: 4.0833e-05 - mae: 0.0068 - val_loss: 0.0012 - val_mae: 0.0351\n",
            "Epoch 69/500\n",
            "43/43 [==============================] - 1s 15ms/step - loss: 3.2568e-05 - mae: 0.0058 - val_loss: 8.0016e-04 - val_mae: 0.0304\n",
            "Epoch 70/500\n",
            "43/43 [==============================] - 1s 16ms/step - loss: 2.5413e-05 - mae: 0.0052 - val_loss: 0.0016 - val_mae: 0.0414\n",
            "Epoch 71/500\n",
            "43/43 [==============================] - 1s 16ms/step - loss: 2.4774e-05 - mae: 0.0050 - val_loss: 0.0028 - val_mae: 0.0619\n",
            "Epoch 72/500\n",
            "43/43 [==============================] - 1s 16ms/step - loss: 2.9709e-05 - mae: 0.0054 - val_loss: 6.6531e-04 - val_mae: 0.0301\n",
            "Epoch 73/500\n",
            "43/43 [==============================] - 1s 16ms/step - loss: 6.4780e-05 - mae: 0.0072 - val_loss: 0.0142 - val_mae: 0.1585\n",
            "Epoch 74/500\n",
            "43/43 [==============================] - 1s 15ms/step - loss: 1.2875e-04 - mae: 0.0105 - val_loss: 0.0021 - val_mae: 0.0568\n",
            "Epoch 75/500\n",
            "43/43 [==============================] - 1s 16ms/step - loss: 1.1458e-04 - mae: 0.0100 - val_loss: 0.0129 - val_mae: 0.1498\n",
            "Epoch 76/500\n",
            "43/43 [==============================] - 1s 17ms/step - loss: 5.9714e-05 - mae: 0.0079 - val_loss: 0.0012 - val_mae: 0.0358\n",
            "Epoch 77/500\n",
            "43/43 [==============================] - 1s 16ms/step - loss: 2.6031e-05 - mae: 0.0053 - val_loss: 0.0025 - val_mae: 0.0564\n",
            "Epoch 78/500\n",
            "43/43 [==============================] - 1s 15ms/step - loss: 2.3850e-05 - mae: 0.0049 - val_loss: 0.0012 - val_mae: 0.0355\n",
            "Epoch 79/500\n",
            "43/43 [==============================] - 1s 17ms/step - loss: 2.6391e-05 - mae: 0.0051 - val_loss: 0.0036 - val_mae: 0.0714\n",
            "Epoch 80/500\n",
            "43/43 [==============================] - 1s 16ms/step - loss: 2.8329e-05 - mae: 0.0053 - val_loss: 0.0042 - val_mae: 0.0789\n",
            "Epoch 81/500\n",
            "43/43 [==============================] - 1s 17ms/step - loss: 1.0305e-04 - mae: 0.0083 - val_loss: 0.0186 - val_mae: 0.1820\n",
            "Epoch 82/500\n",
            "43/43 [==============================] - 1s 15ms/step - loss: 7.1615e-05 - mae: 0.0086 - val_loss: 0.0019 - val_mae: 0.0441\n",
            "Epoch 83/500\n",
            "43/43 [==============================] - 1s 17ms/step - loss: 3.2673e-05 - mae: 0.0057 - val_loss: 0.0013 - val_mae: 0.0366\n",
            "Epoch 84/500\n",
            "43/43 [==============================] - 1s 16ms/step - loss: 3.9983e-05 - mae: 0.0059 - val_loss: 0.0082 - val_mae: 0.1172\n",
            "Epoch 85/500\n",
            "43/43 [==============================] - 1s 16ms/step - loss: 2.5447e-04 - mae: 0.0114 - val_loss: 0.0456 - val_mae: 0.2906\n",
            "Epoch 86/500\n",
            "43/43 [==============================] - 1s 16ms/step - loss: 2.1867e-04 - mae: 0.0144 - val_loss: 0.0046 - val_mae: 0.0757\n",
            "Epoch 87/500\n",
            "43/43 [==============================] - 1s 16ms/step - loss: 6.2281e-05 - mae: 0.0070 - val_loss: 0.0020 - val_mae: 0.0442\n",
            "Epoch 88/500\n",
            "43/43 [==============================] - 1s 18ms/step - loss: 6.1997e-05 - mae: 0.0073 - val_loss: 9.7070e-04 - val_mae: 0.0388\n",
            "Epoch 89/500\n",
            "43/43 [==============================] - 1s 17ms/step - loss: 3.5394e-05 - mae: 0.0061 - val_loss: 0.0022 - val_mae: 0.0501\n",
            "Epoch 90/500\n",
            "43/43 [==============================] - 1s 17ms/step - loss: 3.0410e-05 - mae: 0.0054 - val_loss: 0.0053 - val_mae: 0.0908\n",
            "Epoch 91/500\n",
            "43/43 [==============================] - 1s 17ms/step - loss: 2.8890e-05 - mae: 0.0056 - val_loss: 0.0034 - val_mae: 0.0673\n",
            "Epoch 92/500\n",
            "43/43 [==============================] - 1s 15ms/step - loss: 2.2646e-05 - mae: 0.0048 - val_loss: 0.0024 - val_mae: 0.0533\n",
            "Epoch 93/500\n",
            "43/43 [==============================] - 1s 17ms/step - loss: 6.0053e-05 - mae: 0.0065 - val_loss: 0.0133 - val_mae: 0.1524\n",
            "Epoch 94/500\n",
            "43/43 [==============================] - 1s 20ms/step - loss: 7.1070e-05 - mae: 0.0086 - val_loss: 0.0082 - val_mae: 0.1149\n",
            "Epoch 95/500\n",
            "43/43 [==============================] - 1s 15ms/step - loss: 3.3829e-05 - mae: 0.0061 - val_loss: 0.0040 - val_mae: 0.0732\n",
            "Epoch 96/500\n",
            "43/43 [==============================] - 1s 18ms/step - loss: 3.4640e-05 - mae: 0.0057 - val_loss: 0.0062 - val_mae: 0.0977\n",
            "Epoch 97/500\n",
            "43/43 [==============================] - 1s 18ms/step - loss: 4.2799e-05 - mae: 0.0065 - val_loss: 0.0073 - val_mae: 0.1085\n"
          ],
          "name": "stdout"
        },
        {
          "output_type": "execute_result",
          "data": {
            "text/plain": [
              "<tensorflow.python.keras.callbacks.History at 0x7faeb0708048>"
            ]
          },
          "metadata": {
            "tags": []
          },
          "execution_count": 8
        }
      ]
    },
    {
      "cell_type": "code",
      "metadata": {
        "colab_type": "code",
        "id": "BlqzLwfn8OJa",
        "colab": {}
      },
      "source": [
        "# recall best model\n",
        "model = keras.models.load_model(\"my_checkpoint.h5\")"
      ],
      "execution_count": 9,
      "outputs": []
    },
    {
      "cell_type": "code",
      "metadata": {
        "colab_type": "code",
        "id": "Pj0rpT-48OJc",
        "colab": {}
      },
      "source": [
        "# Forecast test data\n",
        "rnn_forecast = model_forecast(model, spy_normalized_to_traindata[:,  np.newaxis], window_size)\n",
        "rnn_forecast = rnn_forecast[x_test.index.min() - window_size:-1,-1,0]"
      ],
      "execution_count": 10,
      "outputs": []
    },
    {
      "cell_type": "code",
      "metadata": {
        "id": "Mh43h9LrL5Go",
        "colab_type": "code",
        "colab": {
          "base_uri": "https://localhost:8080/",
          "height": 33
        },
        "outputId": "4d86634c-833b-4dca-a7d9-b0b5977746b1"
      },
      "source": [
        "# Scale data back to normal\n",
        "rnn_unscaled_forecast = x_train_scaler.inverse_transform(rnn_forecast.reshape(-1,1)).flatten()\n",
        "rnn_unscaled_forecast.shape"
      ],
      "execution_count": 11,
      "outputs": [
        {
          "output_type": "execute_result",
          "data": {
            "text/plain": [
              "(422,)"
            ]
          },
          "metadata": {
            "tags": []
          },
          "execution_count": 11
        }
      ]
    },
    {
      "cell_type": "code",
      "metadata": {
        "colab_type": "code",
        "id": "3vnDU8wm8OJd",
        "colab": {
          "base_uri": "https://localhost:8080/",
          "height": 410
        },
        "outputId": "e06f88e0-3723-414a-ed5e-e1f66b61afe3"
      },
      "source": [
        "# Plot model results vs actual\n",
        "plt.figure(figsize=(10, 6))\n",
        "\n",
        "plt.ylabel('Dollars $')\n",
        "plt.xlabel('Timestep in Days')\n",
        "plt.title(f'Preprocess with CNN Forecast {window_size}')\n",
        "plot_series(x_test.index, x_test, label = 'Actual')\n",
        "plot_series(x_test.index, rnn_unscaled_forecast, label = 'Forecast')"
      ],
      "execution_count": 12,
      "outputs": [
        {
          "output_type": "display_data",
          "data": {
            "image/png": "[encoded data removed]",
            "text/plain": [
              "<Figure size 720x432 with 1 Axes>"
            ]
          },
          "metadata": {
            "tags": [],
            "needs_background": "light"
          }
        }
      ]
    },
    {
      "cell_type": "code",
      "metadata": {
        "colab_type": "code",
        "id": "W6tWOoE88OJe",
        "colab": {
          "base_uri": "https://localhost:8080/",
          "height": 33
        },
        "outputId": "fbe57c51-c0d3-49f2-ab81-8d85968a0fce"
      },
      "source": [
        "# Calculate MAE\n",
        "keras.metrics.mean_absolute_error(x_test, rnn_unscaled_forecast).numpy()"
      ],
      "execution_count": 13,
      "outputs": [
        {
          "output_type": "execute_result",
          "data": {
            "text/plain": [
              "12.655453"
            ]
          },
          "metadata": {
            "tags": []
          },
          "execution_count": 13
        }
      ]
    },
    {
      "cell_type": "code",
      "metadata": {
        "id": "RAoWAxgGQM_M",
        "colab_type": "code",
        "colab": {}
      },
      "source": [
        ""
      ],
      "execution_count": 13,
      "outputs": []
    }
  ]
}